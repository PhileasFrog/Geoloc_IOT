{
 "cells": [
  {
   "cell_type": "code",
   "execution_count": 1,
   "metadata": {},
   "outputs": [],
   "source": [
    "%matplotlib inline\n",
    "import numpy as np\n",
    "import pandas as pd\n",
    "import matplotlib.pyplot as plt\n",
    "from vincenty import vincenty # geopy.distance can also be used"
   ]
  },
  {
   "cell_type": "code",
   "execution_count": 294,
   "metadata": {},
   "outputs": [
    {
     "data": {
      "text/html": [
       "        <script type=\"text/javascript\">\n",
       "        window.PlotlyConfig = {MathJaxConfig: 'local'};\n",
       "        if (window.MathJax) {MathJax.Hub.Config({SVG: {font: \"STIX-Web\"}});}\n",
       "        if (typeof require !== 'undefined') {\n",
       "        require.undef(\"plotly\");\n",
       "        requirejs.config({\n",
       "            paths: {\n",
       "                'plotly': ['https://cdn.plot.ly/plotly-latest.min']\n",
       "            }\n",
       "        });\n",
       "        require(['plotly'], function(Plotly) {\n",
       "            window._Plotly = Plotly;\n",
       "        });\n",
       "        }\n",
       "        </script>\n",
       "        "
      ]
     },
     "metadata": {},
     "output_type": "display_data"
    }
   ],
   "source": [
    "# import pour afficher les cartes\n",
    "from plotly.offline import iplot, init_notebook_mode\n",
    "import colorlover as cl\n",
    "import plotly.express as px\n",
    "import plotly.graph_objects as go\n",
    "import seaborn as sns\n",
    "\n",
    "# init\n",
    "init_notebook_mode(connected=True)"
   ]
  },
  {
   "cell_type": "code",
   "execution_count": 187,
   "metadata": {},
   "outputs": [],
   "source": [
    "from sklearn.metrics import SCORERS\n",
    "from sklearn.model_selection import GridSearchCV"
   ]
  },
  {
   "cell_type": "code",
   "execution_count": 3,
   "metadata": {},
   "outputs": [],
   "source": [
    "# load train and test data\n",
    "df_mess_train = pd.read_csv('mess_train_list.csv')\n",
    "df_mess_test = pd.read_csv('mess_test_list.csv')\n",
    "pos_train = pd.read_csv('pos_train_list.csv')"
   ]
  },
  {
   "cell_type": "code",
   "execution_count": 4,
   "metadata": {},
   "outputs": [
    {
     "data": {
      "text/html": [
       "<div>\n",
       "<style scoped>\n",
       "    .dataframe tbody tr th:only-of-type {\n",
       "        vertical-align: middle;\n",
       "    }\n",
       "\n",
       "    .dataframe tbody tr th {\n",
       "        vertical-align: top;\n",
       "    }\n",
       "\n",
       "    .dataframe thead th {\n",
       "        text-align: right;\n",
       "    }\n",
       "</style>\n",
       "<table border=\"1\" class=\"dataframe\">\n",
       "  <thead>\n",
       "    <tr style=\"text-align: right;\">\n",
       "      <th></th>\n",
       "      <th>messid</th>\n",
       "      <th>bsid</th>\n",
       "      <th>did</th>\n",
       "      <th>nseq</th>\n",
       "      <th>rssi</th>\n",
       "      <th>time_ux</th>\n",
       "      <th>bs_lat</th>\n",
       "      <th>bs_lng</th>\n",
       "    </tr>\n",
       "  </thead>\n",
       "  <tbody>\n",
       "    <tr>\n",
       "      <th>0</th>\n",
       "      <td>573bf1d9864fce1a9af8c5c9</td>\n",
       "      <td>2841</td>\n",
       "      <td>473335.0</td>\n",
       "      <td>0.5</td>\n",
       "      <td>-121.5</td>\n",
       "      <td>1.463546e+12</td>\n",
       "      <td>39.617794</td>\n",
       "      <td>-104.954917</td>\n",
       "    </tr>\n",
       "    <tr>\n",
       "      <th>1</th>\n",
       "      <td>573bf1d9864fce1a9af8c5c9</td>\n",
       "      <td>3526</td>\n",
       "      <td>473335.0</td>\n",
       "      <td>2.0</td>\n",
       "      <td>-125.0</td>\n",
       "      <td>1.463546e+12</td>\n",
       "      <td>39.677251</td>\n",
       "      <td>-104.952721</td>\n",
       "    </tr>\n",
       "    <tr>\n",
       "      <th>2</th>\n",
       "      <td>573bf3533e952e19126b256a</td>\n",
       "      <td>2605</td>\n",
       "      <td>473335.0</td>\n",
       "      <td>1.0</td>\n",
       "      <td>-134.0</td>\n",
       "      <td>1.463547e+12</td>\n",
       "      <td>39.612745</td>\n",
       "      <td>-105.008827</td>\n",
       "    </tr>\n",
       "    <tr>\n",
       "      <th>3</th>\n",
       "      <td>573c0cd0f0fe6e735a699b93</td>\n",
       "      <td>2610</td>\n",
       "      <td>473953.0</td>\n",
       "      <td>2.0</td>\n",
       "      <td>-132.0</td>\n",
       "      <td>1.463553e+12</td>\n",
       "      <td>39.797969</td>\n",
       "      <td>-105.073460</td>\n",
       "    </tr>\n",
       "    <tr>\n",
       "      <th>4</th>\n",
       "      <td>573c0cd0f0fe6e735a699b93</td>\n",
       "      <td>3574</td>\n",
       "      <td>473953.0</td>\n",
       "      <td>1.0</td>\n",
       "      <td>-120.0</td>\n",
       "      <td>1.463553e+12</td>\n",
       "      <td>39.723151</td>\n",
       "      <td>-104.956216</td>\n",
       "    </tr>\n",
       "  </tbody>\n",
       "</table>\n",
       "</div>"
      ],
      "text/plain": [
       "                     messid  bsid       did  nseq   rssi       time_ux  \\\n",
       "0  573bf1d9864fce1a9af8c5c9  2841  473335.0   0.5 -121.5  1.463546e+12   \n",
       "1  573bf1d9864fce1a9af8c5c9  3526  473335.0   2.0 -125.0  1.463546e+12   \n",
       "2  573bf3533e952e19126b256a  2605  473335.0   1.0 -134.0  1.463547e+12   \n",
       "3  573c0cd0f0fe6e735a699b93  2610  473953.0   2.0 -132.0  1.463553e+12   \n",
       "4  573c0cd0f0fe6e735a699b93  3574  473953.0   1.0 -120.0  1.463553e+12   \n",
       "\n",
       "      bs_lat      bs_lng  \n",
       "0  39.617794 -104.954917  \n",
       "1  39.677251 -104.952721  \n",
       "2  39.612745 -105.008827  \n",
       "3  39.797969 -105.073460  \n",
       "4  39.723151 -104.956216  "
      ]
     },
     "execution_count": 4,
     "metadata": {},
     "output_type": "execute_result"
    }
   ],
   "source": [
    "df_mess_train.head()"
   ]
  },
  {
   "cell_type": "code",
   "execution_count": 4,
   "metadata": {},
   "outputs": [
    {
     "data": {
      "text/html": [
       "<div>\n",
       "<style scoped>\n",
       "    .dataframe tbody tr th:only-of-type {\n",
       "        vertical-align: middle;\n",
       "    }\n",
       "\n",
       "    .dataframe tbody tr th {\n",
       "        vertical-align: top;\n",
       "    }\n",
       "\n",
       "    .dataframe thead th {\n",
       "        text-align: right;\n",
       "    }\n",
       "</style>\n",
       "<table border=\"1\" class=\"dataframe\">\n",
       "  <thead>\n",
       "    <tr style=\"text-align: right;\">\n",
       "      <th></th>\n",
       "      <th>lat</th>\n",
       "      <th>lng</th>\n",
       "    </tr>\n",
       "  </thead>\n",
       "  <tbody>\n",
       "    <tr>\n",
       "      <th>0</th>\n",
       "      <td>39.606690</td>\n",
       "      <td>-104.958490</td>\n",
       "    </tr>\n",
       "    <tr>\n",
       "      <th>1</th>\n",
       "      <td>39.606690</td>\n",
       "      <td>-104.958490</td>\n",
       "    </tr>\n",
       "    <tr>\n",
       "      <th>2</th>\n",
       "      <td>39.637741</td>\n",
       "      <td>-104.958554</td>\n",
       "    </tr>\n",
       "    <tr>\n",
       "      <th>3</th>\n",
       "      <td>39.730417</td>\n",
       "      <td>-104.968940</td>\n",
       "    </tr>\n",
       "    <tr>\n",
       "      <th>4</th>\n",
       "      <td>39.730417</td>\n",
       "      <td>-104.968940</td>\n",
       "    </tr>\n",
       "  </tbody>\n",
       "</table>\n",
       "</div>"
      ],
      "text/plain": [
       "         lat         lng\n",
       "0  39.606690 -104.958490\n",
       "1  39.606690 -104.958490\n",
       "2  39.637741 -104.958554\n",
       "3  39.730417 -104.968940\n",
       "4  39.730417 -104.968940"
      ]
     },
     "execution_count": 4,
     "metadata": {},
     "output_type": "execute_result"
    }
   ],
   "source": [
    "pos_train.head()"
   ]
  },
  {
   "cell_type": "code",
   "execution_count": 5,
   "metadata": {},
   "outputs": [
    {
     "data": {
      "text/html": [
       "<div>\n",
       "<style scoped>\n",
       "    .dataframe tbody tr th:only-of-type {\n",
       "        vertical-align: middle;\n",
       "    }\n",
       "\n",
       "    .dataframe tbody tr th {\n",
       "        vertical-align: top;\n",
       "    }\n",
       "\n",
       "    .dataframe thead th {\n",
       "        text-align: right;\n",
       "    }\n",
       "</style>\n",
       "<table border=\"1\" class=\"dataframe\">\n",
       "  <thead>\n",
       "    <tr style=\"text-align: right;\">\n",
       "      <th></th>\n",
       "      <th>messid</th>\n",
       "      <th>bsid</th>\n",
       "      <th>did</th>\n",
       "      <th>nseq</th>\n",
       "      <th>rssi</th>\n",
       "      <th>time_ux</th>\n",
       "      <th>bs_lat</th>\n",
       "      <th>bs_lng</th>\n",
       "    </tr>\n",
       "  </thead>\n",
       "  <tbody>\n",
       "    <tr>\n",
       "      <th>0</th>\n",
       "      <td>573be2503e952e191262c351</td>\n",
       "      <td>3578</td>\n",
       "      <td>116539.0</td>\n",
       "      <td>2.0</td>\n",
       "      <td>-111.0</td>\n",
       "      <td>1.463542e+12</td>\n",
       "      <td>39.728651</td>\n",
       "      <td>-105.163032</td>\n",
       "    </tr>\n",
       "    <tr>\n",
       "      <th>1</th>\n",
       "      <td>573c05f83e952e1912758013</td>\n",
       "      <td>2617</td>\n",
       "      <td>472504.0</td>\n",
       "      <td>0.0</td>\n",
       "      <td>-136.0</td>\n",
       "      <td>1.463551e+12</td>\n",
       "      <td>39.779908</td>\n",
       "      <td>-105.062479</td>\n",
       "    </tr>\n",
       "    <tr>\n",
       "      <th>2</th>\n",
       "      <td>573c05f83e952e1912758013</td>\n",
       "      <td>3556</td>\n",
       "      <td>472504.0</td>\n",
       "      <td>0.0</td>\n",
       "      <td>-127.0</td>\n",
       "      <td>1.463551e+12</td>\n",
       "      <td>39.780658</td>\n",
       "      <td>-105.053676</td>\n",
       "    </tr>\n",
       "    <tr>\n",
       "      <th>3</th>\n",
       "      <td>573c05f83e952e1912758013</td>\n",
       "      <td>3578</td>\n",
       "      <td>472504.0</td>\n",
       "      <td>0.0</td>\n",
       "      <td>-129.0</td>\n",
       "      <td>1.463551e+12</td>\n",
       "      <td>39.728651</td>\n",
       "      <td>-105.163032</td>\n",
       "    </tr>\n",
       "    <tr>\n",
       "      <th>4</th>\n",
       "      <td>573c05f83e952e1912758013</td>\n",
       "      <td>4058</td>\n",
       "      <td>472504.0</td>\n",
       "      <td>0.0</td>\n",
       "      <td>-105.0</td>\n",
       "      <td>1.463551e+12</td>\n",
       "      <td>39.783211</td>\n",
       "      <td>-105.088747</td>\n",
       "    </tr>\n",
       "  </tbody>\n",
       "</table>\n",
       "</div>"
      ],
      "text/plain": [
       "                     messid  bsid       did  nseq   rssi       time_ux  \\\n",
       "0  573be2503e952e191262c351  3578  116539.0   2.0 -111.0  1.463542e+12   \n",
       "1  573c05f83e952e1912758013  2617  472504.0   0.0 -136.0  1.463551e+12   \n",
       "2  573c05f83e952e1912758013  3556  472504.0   0.0 -127.0  1.463551e+12   \n",
       "3  573c05f83e952e1912758013  3578  472504.0   0.0 -129.0  1.463551e+12   \n",
       "4  573c05f83e952e1912758013  4058  472504.0   0.0 -105.0  1.463551e+12   \n",
       "\n",
       "      bs_lat      bs_lng  \n",
       "0  39.728651 -105.163032  \n",
       "1  39.779908 -105.062479  \n",
       "2  39.780658 -105.053676  \n",
       "3  39.728651 -105.163032  \n",
       "4  39.783211 -105.088747  "
      ]
     },
     "execution_count": 5,
     "metadata": {},
     "output_type": "execute_result"
    }
   ],
   "source": [
    "df_mess_test.head()"
   ]
  },
  {
   "cell_type": "code",
   "execution_count": 6,
   "metadata": {},
   "outputs": [],
   "source": [
    "df_mess_train['lat'] = pos_train['lat']\n",
    "df_mess_train['lng'] = pos_train['lng']"
   ]
  },
  {
   "cell_type": "code",
   "execution_count": 7,
   "metadata": {},
   "outputs": [],
   "source": [
    "def vincenty_vec(vec_coord):\n",
    "    vin_vec_dist = np.zeros(vec_coord.shape[0])\n",
    "    if vec_coord.shape[1] !=  4:\n",
    "        print('ERROR: Bad number of columns (shall be = 4)')\n",
    "    else:\n",
    "        vin_vec_dist = [vincenty(vec_coord[m,0:2],vec_coord[m,2:]) for m in range(vec_coord.shape[0])]\n",
    "    return vin_vec_dist"
   ]
  },
  {
   "cell_type": "code",
   "execution_count": 8,
   "metadata": {},
   "outputs": [],
   "source": [
    "# evaluate distance error for each predicted point\n",
    "def Eval_geoloc(y_train_lat , y_train_lng, y_pred_lat, y_pred_lng):\n",
    "    vec_coord = np.array([y_train_lat , y_train_lng, y_pred_lat, y_pred_lng])\n",
    "    err_vec = vincenty_vec(np.transpose(vec_coord))\n",
    "    \n",
    "    return err_vec"
   ]
  },
  {
   "cell_type": "code",
   "execution_count": 9,
   "metadata": {},
   "outputs": [],
   "source": [
    "# on rajoute distance device-station dans df_mess_train\n",
    "df_mess_train['d_base'] = Eval_geoloc(df_mess_train['bs_lat'],df_mess_train['bs_lng'],pos_train['lat'],pos_train['lng'])"
   ]
  },
  {
   "cell_type": "code",
   "execution_count": 305,
   "metadata": {
    "scrolled": false
   },
   "outputs": [
    {
     "data": {
      "text/html": [
       "<div>\n",
       "<style scoped>\n",
       "    .dataframe tbody tr th:only-of-type {\n",
       "        vertical-align: middle;\n",
       "    }\n",
       "\n",
       "    .dataframe tbody tr th {\n",
       "        vertical-align: top;\n",
       "    }\n",
       "\n",
       "    .dataframe thead th {\n",
       "        text-align: right;\n",
       "    }\n",
       "</style>\n",
       "<table border=\"1\" class=\"dataframe\">\n",
       "  <thead>\n",
       "    <tr style=\"text-align: right;\">\n",
       "      <th></th>\n",
       "      <th>bsid</th>\n",
       "      <th>did</th>\n",
       "      <th>nseq</th>\n",
       "      <th>rssi</th>\n",
       "      <th>time_ux</th>\n",
       "      <th>bs_lat</th>\n",
       "      <th>bs_lng</th>\n",
       "      <th>lat</th>\n",
       "      <th>lng</th>\n",
       "      <th>d_base</th>\n",
       "    </tr>\n",
       "  </thead>\n",
       "  <tbody>\n",
       "    <tr>\n",
       "      <th>count</th>\n",
       "      <td>34579.000000</td>\n",
       "      <td>3.457900e+04</td>\n",
       "      <td>34579.000000</td>\n",
       "      <td>34579.000000</td>\n",
       "      <td>3.457900e+04</td>\n",
       "      <td>34579.000000</td>\n",
       "      <td>34579.000000</td>\n",
       "      <td>34579.000000</td>\n",
       "      <td>34579.000000</td>\n",
       "      <td>34579.000000</td>\n",
       "    </tr>\n",
       "    <tr>\n",
       "      <th>mean</th>\n",
       "      <td>4335.964979</td>\n",
       "      <td>4.817589e+05</td>\n",
       "      <td>1.044651</td>\n",
       "      <td>-125.899192</td>\n",
       "      <td>1.473000e+12</td>\n",
       "      <td>39.798268</td>\n",
       "      <td>-105.064546</td>\n",
       "      <td>39.786442</td>\n",
       "      <td>-105.059899</td>\n",
       "      <td>5.572419</td>\n",
       "    </tr>\n",
       "    <tr>\n",
       "      <th>std</th>\n",
       "      <td>2364.338923</td>\n",
       "      <td>8.630330e+04</td>\n",
       "      <td>0.558705</td>\n",
       "      <td>9.217687</td>\n",
       "      <td>5.577516e+09</td>\n",
       "      <td>0.216214</td>\n",
       "      <td>0.177424</td>\n",
       "      <td>0.216460</td>\n",
       "      <td>0.171193</td>\n",
       "      <td>5.309702</td>\n",
       "    </tr>\n",
       "    <tr>\n",
       "      <th>min</th>\n",
       "      <td>879.000000</td>\n",
       "      <td>4.732880e+05</td>\n",
       "      <td>0.000000</td>\n",
       "      <td>-155.000000</td>\n",
       "      <td>1.463546e+12</td>\n",
       "      <td>36.053394</td>\n",
       "      <td>-107.463146</td>\n",
       "      <td>35.770683</td>\n",
       "      <td>-107.630679</td>\n",
       "      <td>0.026570</td>\n",
       "    </tr>\n",
       "    <tr>\n",
       "      <th>25%</th>\n",
       "      <td>2790.000000</td>\n",
       "      <td>4.761850e+05</td>\n",
       "      <td>1.000000</td>\n",
       "      <td>-132.500000</td>\n",
       "      <td>1.467906e+12</td>\n",
       "      <td>39.744848</td>\n",
       "      <td>-105.077530</td>\n",
       "      <td>39.708524</td>\n",
       "      <td>-105.063613</td>\n",
       "      <td>2.013047</td>\n",
       "    </tr>\n",
       "    <tr>\n",
       "      <th>50%</th>\n",
       "      <td>3554.000000</td>\n",
       "      <td>4.763150e+05</td>\n",
       "      <td>1.000000</td>\n",
       "      <td>-127.500000</td>\n",
       "      <td>1.472830e+12</td>\n",
       "      <td>39.781464</td>\n",
       "      <td>-105.050984</td>\n",
       "      <td>39.777623</td>\n",
       "      <td>-105.042091</td>\n",
       "      <td>3.983613</td>\n",
       "    </tr>\n",
       "    <tr>\n",
       "      <th>75%</th>\n",
       "      <td>4790.000000</td>\n",
       "      <td>4.766020e+05</td>\n",
       "      <td>1.500000</td>\n",
       "      <td>-121.000000</td>\n",
       "      <td>1.478673e+12</td>\n",
       "      <td>39.816224</td>\n",
       "      <td>-105.010048</td>\n",
       "      <td>39.807485</td>\n",
       "      <td>-105.018761</td>\n",
       "      <td>7.496166</td>\n",
       "    </tr>\n",
       "    <tr>\n",
       "      <th>max</th>\n",
       "      <td>10148.000000</td>\n",
       "      <td>1.747448e+06</td>\n",
       "      <td>2.000000</td>\n",
       "      <td>-64.000000</td>\n",
       "      <td>1.481143e+12</td>\n",
       "      <td>42.850670</td>\n",
       "      <td>-102.011461</td>\n",
       "      <td>43.140387</td>\n",
       "      <td>-102.094289</td>\n",
       "      <td>47.237609</td>\n",
       "    </tr>\n",
       "  </tbody>\n",
       "</table>\n",
       "</div>"
      ],
      "text/plain": [
       "               bsid           did          nseq          rssi       time_ux  \\\n",
       "count  34579.000000  3.457900e+04  34579.000000  34579.000000  3.457900e+04   \n",
       "mean    4335.964979  4.817589e+05      1.044651   -125.899192  1.473000e+12   \n",
       "std     2364.338923  8.630330e+04      0.558705      9.217687  5.577516e+09   \n",
       "min      879.000000  4.732880e+05      0.000000   -155.000000  1.463546e+12   \n",
       "25%     2790.000000  4.761850e+05      1.000000   -132.500000  1.467906e+12   \n",
       "50%     3554.000000  4.763150e+05      1.000000   -127.500000  1.472830e+12   \n",
       "75%     4790.000000  4.766020e+05      1.500000   -121.000000  1.478673e+12   \n",
       "max    10148.000000  1.747448e+06      2.000000    -64.000000  1.481143e+12   \n",
       "\n",
       "             bs_lat        bs_lng           lat           lng        d_base  \n",
       "count  34579.000000  34579.000000  34579.000000  34579.000000  34579.000000  \n",
       "mean      39.798268   -105.064546     39.786442   -105.059899      5.572419  \n",
       "std        0.216214      0.177424      0.216460      0.171193      5.309702  \n",
       "min       36.053394   -107.463146     35.770683   -107.630679      0.026570  \n",
       "25%       39.744848   -105.077530     39.708524   -105.063613      2.013047  \n",
       "50%       39.781464   -105.050984     39.777623   -105.042091      3.983613  \n",
       "75%       39.816224   -105.010048     39.807485   -105.018761      7.496166  \n",
       "max       42.850670   -102.011461     43.140387   -102.094289     47.237609  "
      ]
     },
     "execution_count": 305,
     "metadata": {},
     "output_type": "execute_result"
    }
   ],
   "source": [
    "# filtrage final des anomalies du train\n",
    "df_mess_train_filter = df_mess_train[(df_mess_train['messid']!= '57aeb41fe541cd77a044cdb8')\n",
    "                      & (df_mess_train['d_base'] <= 50)]\n",
    "df_mess_train_filter.describe()"
   ]
  },
  {
   "cell_type": "code",
   "execution_count": 306,
   "metadata": {},
   "outputs": [],
   "source": [
    "pos_train_filter = pos_train.reindex(df_mess_train_filter.index)"
   ]
  },
  {
   "cell_type": "code",
   "execution_count": 307,
   "metadata": {},
   "outputs": [
    {
     "data": {
      "text/plain": [
       "113"
      ]
     },
     "execution_count": 307,
     "metadata": {},
     "output_type": "execute_result"
    }
   ],
   "source": [
    "listOfDev = df_mess_train['did'].unique()\n",
    "len(listOfDev)"
   ]
  },
  {
   "cell_type": "code",
   "execution_count": 308,
   "metadata": {},
   "outputs": [],
   "source": [
    "listOfBs = np.union1d(np.unique(df_mess_train['bsid']), np.unique(df_mess_test['bsid'])) # determine all Base stations that received at least 1 message"
   ]
  },
  {
   "cell_type": "code",
   "execution_count": 309,
   "metadata": {},
   "outputs": [
    {
     "data": {
      "text/plain": [
       "259"
      ]
     },
     "execution_count": 309,
     "metadata": {},
     "output_type": "execute_result"
    }
   ],
   "source": [
    "len(listOfBs)"
   ]
  },
  {
   "cell_type": "code",
   "execution_count": 15,
   "metadata": {},
   "outputs": [],
   "source": [
    "# Feature Matrix construction avec 0/1 activation balises\n",
    "\n",
    "def feat_mat_const(df_mess_train, listOfBs):\n",
    "\n",
    "    df_mess_bs_group = df_mess_train.groupby(['messid'], as_index=False) # group data by message (messid)\n",
    "    nb_mess = len(np.unique(df_mess_train['messid']))\n",
    "    df_feat = pd.DataFrame(np.zeros((nb_mess,len(listOfBs))), columns = listOfBs) # feature matrix\n",
    "    idx = 0\n",
    "    id_list = [0] * nb_mess\n",
    "\n",
    "    for key, elmt in df_mess_bs_group:\n",
    "#         df_mess_bs_group.get_group(key)\n",
    "#         df_feat.loc[idx,df_mess_bs_group.get_group(key)['bsid']] = 1\n",
    "        df_feat.loc[idx,elmt['bsid']] = 1\n",
    "        id_list[idx] = key\n",
    "        idx = idx + 1\n",
    "    \n",
    "    return df_feat, id_list # add id value of each message for the correspondance to message  "
   ]
  },
  {
   "cell_type": "code",
   "execution_count": 110,
   "metadata": {},
   "outputs": [],
   "source": [
    "# Feature Matrix construction avec rssi balises -2000 db pour les nan !\n",
    "\n",
    "def feat_mat_const2(df_mess_train, listOfBs):\n",
    "\n",
    "    df_mess_bs_group = df_mess_train.groupby(['messid'], as_index=False) # group data by message (messid)\n",
    "    nb_mess = len(np.unique(df_mess_train['messid']))\n",
    "    df_feat = pd.DataFrame(np.zeros((nb_mess,len(listOfBs)))-2000, columns = listOfBs) # feature matrix\n",
    "    idx = 0\n",
    "    id_list = [0] * nb_mess\n",
    "\n",
    "    for key, elmt in df_mess_bs_group:\n",
    "#         group = df_mess_bs_group.get_group(key)\n",
    "#         df_feat.loc[idx,group['bsid']] = group['rssi'].values\n",
    "        df_feat.loc[idx,elmt['bsid']] = elmt['rssi'].values\n",
    "        id_list[idx] = key\n",
    "        idx = idx + 1\n",
    "    \n",
    "    return df_feat, id_list # add id value of each message for the correspondance to message  "
   ]
  },
  {
   "cell_type": "code",
   "execution_count": 17,
   "metadata": {},
   "outputs": [],
   "source": [
    "# ground truth construction\n",
    "\n",
    "def ground_truth_const(df_mess_train, pos_train):\n",
    "\n",
    "    df_mess_pos = df_mess_train.copy()\n",
    "    df_mess_pos[['lat', 'lng']] = pos_train\n",
    "\n",
    "    ground_truth_lat = np.array(df_mess_pos.groupby(['messid']).mean()['lat'])\n",
    "    ground_truth_lng = np.array(df_mess_pos.groupby(['messid']).mean()['lng'])\n",
    "    \n",
    "    return ground_truth_lat, ground_truth_lng"
   ]
  },
  {
   "cell_type": "code",
   "execution_count": 310,
   "metadata": {},
   "outputs": [
    {
     "data": {
      "text/html": [
       "<div>\n",
       "<style scoped>\n",
       "    .dataframe tbody tr th:only-of-type {\n",
       "        vertical-align: middle;\n",
       "    }\n",
       "\n",
       "    .dataframe tbody tr th {\n",
       "        vertical-align: top;\n",
       "    }\n",
       "\n",
       "    .dataframe thead th {\n",
       "        text-align: right;\n",
       "    }\n",
       "</style>\n",
       "<table border=\"1\" class=\"dataframe\">\n",
       "  <thead>\n",
       "    <tr style=\"text-align: right;\">\n",
       "      <th></th>\n",
       "      <th>879</th>\n",
       "      <th>911</th>\n",
       "      <th>921</th>\n",
       "      <th>944</th>\n",
       "      <th>980</th>\n",
       "      <th>1012</th>\n",
       "      <th>1086</th>\n",
       "      <th>1092</th>\n",
       "      <th>1120</th>\n",
       "      <th>1131</th>\n",
       "      <th>...</th>\n",
       "      <th>9936</th>\n",
       "      <th>9941</th>\n",
       "      <th>9949</th>\n",
       "      <th>10134</th>\n",
       "      <th>10148</th>\n",
       "      <th>10151</th>\n",
       "      <th>10162</th>\n",
       "      <th>10999</th>\n",
       "      <th>11007</th>\n",
       "      <th>11951</th>\n",
       "    </tr>\n",
       "  </thead>\n",
       "  <tbody>\n",
       "    <tr>\n",
       "      <th>0</th>\n",
       "      <td>0.0</td>\n",
       "      <td>0.0</td>\n",
       "      <td>0.0</td>\n",
       "      <td>0.0</td>\n",
       "      <td>0.0</td>\n",
       "      <td>0.0</td>\n",
       "      <td>0.0</td>\n",
       "      <td>0.0</td>\n",
       "      <td>0.0</td>\n",
       "      <td>0.0</td>\n",
       "      <td>...</td>\n",
       "      <td>0.0</td>\n",
       "      <td>0.0</td>\n",
       "      <td>0.0</td>\n",
       "      <td>0.0</td>\n",
       "      <td>0.0</td>\n",
       "      <td>0.0</td>\n",
       "      <td>0.0</td>\n",
       "      <td>0.0</td>\n",
       "      <td>0.0</td>\n",
       "      <td>0.0</td>\n",
       "    </tr>\n",
       "    <tr>\n",
       "      <th>1</th>\n",
       "      <td>0.0</td>\n",
       "      <td>0.0</td>\n",
       "      <td>0.0</td>\n",
       "      <td>0.0</td>\n",
       "      <td>0.0</td>\n",
       "      <td>0.0</td>\n",
       "      <td>0.0</td>\n",
       "      <td>0.0</td>\n",
       "      <td>0.0</td>\n",
       "      <td>0.0</td>\n",
       "      <td>...</td>\n",
       "      <td>0.0</td>\n",
       "      <td>0.0</td>\n",
       "      <td>0.0</td>\n",
       "      <td>0.0</td>\n",
       "      <td>0.0</td>\n",
       "      <td>0.0</td>\n",
       "      <td>0.0</td>\n",
       "      <td>0.0</td>\n",
       "      <td>0.0</td>\n",
       "      <td>0.0</td>\n",
       "    </tr>\n",
       "    <tr>\n",
       "      <th>2</th>\n",
       "      <td>0.0</td>\n",
       "      <td>0.0</td>\n",
       "      <td>0.0</td>\n",
       "      <td>0.0</td>\n",
       "      <td>0.0</td>\n",
       "      <td>0.0</td>\n",
       "      <td>0.0</td>\n",
       "      <td>0.0</td>\n",
       "      <td>0.0</td>\n",
       "      <td>0.0</td>\n",
       "      <td>...</td>\n",
       "      <td>0.0</td>\n",
       "      <td>0.0</td>\n",
       "      <td>0.0</td>\n",
       "      <td>0.0</td>\n",
       "      <td>0.0</td>\n",
       "      <td>0.0</td>\n",
       "      <td>0.0</td>\n",
       "      <td>0.0</td>\n",
       "      <td>0.0</td>\n",
       "      <td>0.0</td>\n",
       "    </tr>\n",
       "    <tr>\n",
       "      <th>3</th>\n",
       "      <td>0.0</td>\n",
       "      <td>0.0</td>\n",
       "      <td>0.0</td>\n",
       "      <td>0.0</td>\n",
       "      <td>0.0</td>\n",
       "      <td>0.0</td>\n",
       "      <td>0.0</td>\n",
       "      <td>0.0</td>\n",
       "      <td>0.0</td>\n",
       "      <td>0.0</td>\n",
       "      <td>...</td>\n",
       "      <td>0.0</td>\n",
       "      <td>0.0</td>\n",
       "      <td>0.0</td>\n",
       "      <td>0.0</td>\n",
       "      <td>0.0</td>\n",
       "      <td>0.0</td>\n",
       "      <td>0.0</td>\n",
       "      <td>0.0</td>\n",
       "      <td>0.0</td>\n",
       "      <td>0.0</td>\n",
       "    </tr>\n",
       "    <tr>\n",
       "      <th>4</th>\n",
       "      <td>0.0</td>\n",
       "      <td>0.0</td>\n",
       "      <td>0.0</td>\n",
       "      <td>0.0</td>\n",
       "      <td>0.0</td>\n",
       "      <td>0.0</td>\n",
       "      <td>1.0</td>\n",
       "      <td>0.0</td>\n",
       "      <td>0.0</td>\n",
       "      <td>0.0</td>\n",
       "      <td>...</td>\n",
       "      <td>0.0</td>\n",
       "      <td>0.0</td>\n",
       "      <td>0.0</td>\n",
       "      <td>0.0</td>\n",
       "      <td>0.0</td>\n",
       "      <td>0.0</td>\n",
       "      <td>0.0</td>\n",
       "      <td>0.0</td>\n",
       "      <td>0.0</td>\n",
       "      <td>0.0</td>\n",
       "    </tr>\n",
       "  </tbody>\n",
       "</table>\n",
       "<p>5 rows × 259 columns</p>\n",
       "</div>"
      ],
      "text/plain": [
       "   879    911    921    944    980    1012   1086   1092   1120   1131   ...  \\\n",
       "0    0.0    0.0    0.0    0.0    0.0    0.0    0.0    0.0    0.0    0.0  ...   \n",
       "1    0.0    0.0    0.0    0.0    0.0    0.0    0.0    0.0    0.0    0.0  ...   \n",
       "2    0.0    0.0    0.0    0.0    0.0    0.0    0.0    0.0    0.0    0.0  ...   \n",
       "3    0.0    0.0    0.0    0.0    0.0    0.0    0.0    0.0    0.0    0.0  ...   \n",
       "4    0.0    0.0    0.0    0.0    0.0    0.0    1.0    0.0    0.0    0.0  ...   \n",
       "\n",
       "   9936   9941   9949   10134  10148  10151  10162  10999  11007  11951  \n",
       "0    0.0    0.0    0.0    0.0    0.0    0.0    0.0    0.0    0.0    0.0  \n",
       "1    0.0    0.0    0.0    0.0    0.0    0.0    0.0    0.0    0.0    0.0  \n",
       "2    0.0    0.0    0.0    0.0    0.0    0.0    0.0    0.0    0.0    0.0  \n",
       "3    0.0    0.0    0.0    0.0    0.0    0.0    0.0    0.0    0.0    0.0  \n",
       "4    0.0    0.0    0.0    0.0    0.0    0.0    0.0    0.0    0.0    0.0  \n",
       "\n",
       "[5 rows x 259 columns]"
      ]
     },
     "execution_count": 310,
     "metadata": {},
     "output_type": "execute_result"
    }
   ],
   "source": [
    "# on regroupe les infos par message feat 0/1\n",
    "df_feat, id_list_train = feat_mat_const(df_mess_train_filter, listOfBs)\n",
    "df_feat.head()"
   ]
  },
  {
   "cell_type": "code",
   "execution_count": 311,
   "metadata": {},
   "outputs": [
    {
     "data": {
      "text/plain": [
       "(5868, 259)"
      ]
     },
     "execution_count": 311,
     "metadata": {},
     "output_type": "execute_result"
    }
   ],
   "source": [
    "df_feat.shape"
   ]
  },
  {
   "cell_type": "code",
   "execution_count": 313,
   "metadata": {},
   "outputs": [
    {
     "data": {
      "text/html": [
       "<div>\n",
       "<style scoped>\n",
       "    .dataframe tbody tr th:only-of-type {\n",
       "        vertical-align: middle;\n",
       "    }\n",
       "\n",
       "    .dataframe tbody tr th {\n",
       "        vertical-align: top;\n",
       "    }\n",
       "\n",
       "    .dataframe thead th {\n",
       "        text-align: right;\n",
       "    }\n",
       "</style>\n",
       "<table border=\"1\" class=\"dataframe\">\n",
       "  <thead>\n",
       "    <tr style=\"text-align: right;\">\n",
       "      <th></th>\n",
       "      <th>879</th>\n",
       "      <th>911</th>\n",
       "      <th>921</th>\n",
       "      <th>944</th>\n",
       "      <th>980</th>\n",
       "      <th>1012</th>\n",
       "      <th>1086</th>\n",
       "      <th>1092</th>\n",
       "      <th>1120</th>\n",
       "      <th>1131</th>\n",
       "      <th>...</th>\n",
       "      <th>9936</th>\n",
       "      <th>9941</th>\n",
       "      <th>9949</th>\n",
       "      <th>10134</th>\n",
       "      <th>10148</th>\n",
       "      <th>10151</th>\n",
       "      <th>10162</th>\n",
       "      <th>10999</th>\n",
       "      <th>11007</th>\n",
       "      <th>11951</th>\n",
       "    </tr>\n",
       "  </thead>\n",
       "  <tbody>\n",
       "    <tr>\n",
       "      <th>0</th>\n",
       "      <td>-2000.0</td>\n",
       "      <td>-2000.0</td>\n",
       "      <td>-2000.0</td>\n",
       "      <td>-2000.0</td>\n",
       "      <td>-2000.0</td>\n",
       "      <td>-2000.0</td>\n",
       "      <td>-2000.0</td>\n",
       "      <td>-2000.0</td>\n",
       "      <td>-2000.0</td>\n",
       "      <td>-2000.0</td>\n",
       "      <td>...</td>\n",
       "      <td>-2000.0</td>\n",
       "      <td>-2000.0</td>\n",
       "      <td>-2000.0</td>\n",
       "      <td>-2000.0</td>\n",
       "      <td>-2000.0</td>\n",
       "      <td>-2000.0</td>\n",
       "      <td>-2000.0</td>\n",
       "      <td>-2000.0</td>\n",
       "      <td>-2000.0</td>\n",
       "      <td>-2000.0</td>\n",
       "    </tr>\n",
       "    <tr>\n",
       "      <th>1</th>\n",
       "      <td>-2000.0</td>\n",
       "      <td>-2000.0</td>\n",
       "      <td>-2000.0</td>\n",
       "      <td>-2000.0</td>\n",
       "      <td>-2000.0</td>\n",
       "      <td>-2000.0</td>\n",
       "      <td>-2000.0</td>\n",
       "      <td>-2000.0</td>\n",
       "      <td>-2000.0</td>\n",
       "      <td>-2000.0</td>\n",
       "      <td>...</td>\n",
       "      <td>-2000.0</td>\n",
       "      <td>-2000.0</td>\n",
       "      <td>-2000.0</td>\n",
       "      <td>-2000.0</td>\n",
       "      <td>-2000.0</td>\n",
       "      <td>-2000.0</td>\n",
       "      <td>-2000.0</td>\n",
       "      <td>-2000.0</td>\n",
       "      <td>-2000.0</td>\n",
       "      <td>-2000.0</td>\n",
       "    </tr>\n",
       "    <tr>\n",
       "      <th>2</th>\n",
       "      <td>-2000.0</td>\n",
       "      <td>-2000.0</td>\n",
       "      <td>-2000.0</td>\n",
       "      <td>-2000.0</td>\n",
       "      <td>-2000.0</td>\n",
       "      <td>-2000.0</td>\n",
       "      <td>-2000.0</td>\n",
       "      <td>-2000.0</td>\n",
       "      <td>-2000.0</td>\n",
       "      <td>-2000.0</td>\n",
       "      <td>...</td>\n",
       "      <td>-2000.0</td>\n",
       "      <td>-2000.0</td>\n",
       "      <td>-2000.0</td>\n",
       "      <td>-2000.0</td>\n",
       "      <td>-2000.0</td>\n",
       "      <td>-2000.0</td>\n",
       "      <td>-2000.0</td>\n",
       "      <td>-2000.0</td>\n",
       "      <td>-2000.0</td>\n",
       "      <td>-2000.0</td>\n",
       "    </tr>\n",
       "    <tr>\n",
       "      <th>3</th>\n",
       "      <td>-2000.0</td>\n",
       "      <td>-2000.0</td>\n",
       "      <td>-2000.0</td>\n",
       "      <td>-2000.0</td>\n",
       "      <td>-2000.0</td>\n",
       "      <td>-2000.0</td>\n",
       "      <td>-2000.0</td>\n",
       "      <td>-2000.0</td>\n",
       "      <td>-2000.0</td>\n",
       "      <td>-2000.0</td>\n",
       "      <td>...</td>\n",
       "      <td>-2000.0</td>\n",
       "      <td>-2000.0</td>\n",
       "      <td>-2000.0</td>\n",
       "      <td>-2000.0</td>\n",
       "      <td>-2000.0</td>\n",
       "      <td>-2000.0</td>\n",
       "      <td>-2000.0</td>\n",
       "      <td>-2000.0</td>\n",
       "      <td>-2000.0</td>\n",
       "      <td>-2000.0</td>\n",
       "    </tr>\n",
       "    <tr>\n",
       "      <th>4</th>\n",
       "      <td>-2000.0</td>\n",
       "      <td>-2000.0</td>\n",
       "      <td>-2000.0</td>\n",
       "      <td>-2000.0</td>\n",
       "      <td>-2000.0</td>\n",
       "      <td>-2000.0</td>\n",
       "      <td>-141.0</td>\n",
       "      <td>-2000.0</td>\n",
       "      <td>-2000.0</td>\n",
       "      <td>-2000.0</td>\n",
       "      <td>...</td>\n",
       "      <td>-2000.0</td>\n",
       "      <td>-2000.0</td>\n",
       "      <td>-2000.0</td>\n",
       "      <td>-2000.0</td>\n",
       "      <td>-2000.0</td>\n",
       "      <td>-2000.0</td>\n",
       "      <td>-2000.0</td>\n",
       "      <td>-2000.0</td>\n",
       "      <td>-2000.0</td>\n",
       "      <td>-2000.0</td>\n",
       "    </tr>\n",
       "  </tbody>\n",
       "</table>\n",
       "<p>5 rows × 259 columns</p>\n",
       "</div>"
      ],
      "text/plain": [
       "    879     911     921     944     980     1012    1086    1092    1120   \\\n",
       "0 -2000.0 -2000.0 -2000.0 -2000.0 -2000.0 -2000.0 -2000.0 -2000.0 -2000.0   \n",
       "1 -2000.0 -2000.0 -2000.0 -2000.0 -2000.0 -2000.0 -2000.0 -2000.0 -2000.0   \n",
       "2 -2000.0 -2000.0 -2000.0 -2000.0 -2000.0 -2000.0 -2000.0 -2000.0 -2000.0   \n",
       "3 -2000.0 -2000.0 -2000.0 -2000.0 -2000.0 -2000.0 -2000.0 -2000.0 -2000.0   \n",
       "4 -2000.0 -2000.0 -2000.0 -2000.0 -2000.0 -2000.0  -141.0 -2000.0 -2000.0   \n",
       "\n",
       "    1131   ...   9936    9941    9949    10134   10148   10151   10162  \\\n",
       "0 -2000.0  ... -2000.0 -2000.0 -2000.0 -2000.0 -2000.0 -2000.0 -2000.0   \n",
       "1 -2000.0  ... -2000.0 -2000.0 -2000.0 -2000.0 -2000.0 -2000.0 -2000.0   \n",
       "2 -2000.0  ... -2000.0 -2000.0 -2000.0 -2000.0 -2000.0 -2000.0 -2000.0   \n",
       "3 -2000.0  ... -2000.0 -2000.0 -2000.0 -2000.0 -2000.0 -2000.0 -2000.0   \n",
       "4 -2000.0  ... -2000.0 -2000.0 -2000.0 -2000.0 -2000.0 -2000.0 -2000.0   \n",
       "\n",
       "    10999   11007   11951  \n",
       "0 -2000.0 -2000.0 -2000.0  \n",
       "1 -2000.0 -2000.0 -2000.0  \n",
       "2 -2000.0 -2000.0 -2000.0  \n",
       "3 -2000.0 -2000.0 -2000.0  \n",
       "4 -2000.0 -2000.0 -2000.0  \n",
       "\n",
       "[5 rows x 259 columns]"
      ]
     },
     "execution_count": 313,
     "metadata": {},
     "output_type": "execute_result"
    }
   ],
   "source": [
    "# on regroupe les infos par message feat rssi\n",
    "df_feat2, id_list_train2 = feat_mat_const2(df_mess_train_filter, listOfBs)\n",
    "df_feat2.head()"
   ]
  },
  {
   "cell_type": "code",
   "execution_count": 314,
   "metadata": {
    "scrolled": true
   },
   "outputs": [
    {
     "data": {
      "text/plain": [
       "(5868,)"
      ]
     },
     "execution_count": 314,
     "metadata": {},
     "output_type": "execute_result"
    }
   ],
   "source": [
    "ground_truth_lat_filter, ground_truth_lng_filter = ground_truth_const(df_mess_train_filter, pos_train_filter)\n",
    "ground_truth_lat_filter.shape"
   ]
  },
  {
   "cell_type": "code",
   "execution_count": 315,
   "metadata": {},
   "outputs": [
    {
     "data": {
      "text/plain": [
       "(5868,)"
      ]
     },
     "execution_count": 315,
     "metadata": {},
     "output_type": "execute_result"
    }
   ],
   "source": [
    "# liste des devices de chaque message, à utiliser pour la stratégie Leave one/K device Out\n",
    "dev_id = df_mess_train_filter.groupby(['messid'])['did'].first()\n",
    "dev_id.shape"
   ]
  },
  {
   "cell_type": "code",
   "execution_count": 63,
   "metadata": {},
   "outputs": [],
   "source": [
    "# Validation"
   ]
  },
  {
   "cell_type": "code",
   "execution_count": 64,
   "metadata": {},
   "outputs": [],
   "source": [
    "def regressor_and_predict(df_feat, ground_truth_lat, ground_truth_lng, df_test):\n",
    "    \n",
    "    # train regressor and make prediction in the train set\n",
    "    # Input: df_feat: feature matrix used to train regressor\n",
    "    #        ground_truth_lat: df_feat associated latitude\n",
    "    #        ground_truth_lng: df_feat associated longitude\n",
    "    #        df_test: data frame used for prediction\n",
    "    # Output: y_pred_lat, y_pred_lng\n",
    "\n",
    "    from sklearn import linear_model\n",
    "\n",
    "    X_train = np.array(df_feat);\n",
    "    reg = linear_model.LinearRegression()\n",
    "\n",
    "    reg.fit(X_train, ground_truth_lat);\n",
    "    y_pred_lat = reg.predict(df_test) \n",
    "\n",
    "    reg.fit(X_train, ground_truth_lng);\n",
    "    y_pred_lng = reg.predict(df_test) \n",
    "    \n",
    "    return y_pred_lat, y_pred_lng\n"
   ]
  },
  {
   "cell_type": "code",
   "execution_count": 65,
   "metadata": {},
   "outputs": [],
   "source": [
    "# Make regressor and prediction using the train set"
   ]
  },
  {
   "cell_type": "raw",
   "metadata": {},
   "source": [
    "y_pred_lat, y_pred_lng = regressor_and_predict(df_feat2, ground_truth_lat, ground_truth_lng, df_feat2)"
   ]
  },
  {
   "cell_type": "code",
   "execution_count": 66,
   "metadata": {},
   "outputs": [],
   "source": [
    "# Cross validation"
   ]
  },
  {
   "cell_type": "code",
   "execution_count": 116,
   "metadata": {},
   "outputs": [],
   "source": [
    "from sklearn.model_selection import cross_val_predict, cross_val_score, cross_validate, LeaveOneGroupOut, GroupKFold"
   ]
  },
  {
   "cell_type": "code",
   "execution_count": 159,
   "metadata": {},
   "outputs": [],
   "source": [
    "# apparement demandé par le prof mais très  long\n",
    "logo = LeaveOneGroupOut()"
   ]
  },
  {
   "cell_type": "code",
   "execution_count": 160,
   "metadata": {},
   "outputs": [
    {
     "data": {
      "text/plain": [
       "113"
      ]
     },
     "execution_count": 160,
     "metadata": {},
     "output_type": "execute_result"
    }
   ],
   "source": [
    "logo.get_n_splits(df_feat_filter,groups=dev_id)"
   ]
  },
  {
   "cell_type": "code",
   "execution_count": 137,
   "metadata": {},
   "outputs": [],
   "source": [
    "# n_splits=2 pour aller encore plus vite en temps calcul des apprentissages\n",
    "group_kfold = GroupKFold(n_splits=10)"
   ]
  },
  {
   "cell_type": "code",
   "execution_count": 316,
   "metadata": {},
   "outputs": [
    {
     "data": {
      "text/plain": [
       "10"
      ]
     },
     "execution_count": 316,
     "metadata": {},
     "output_type": "execute_result"
    }
   ],
   "source": [
    "group_kfold.get_n_splits(df_feat,groups=dev_id)"
   ]
  },
  {
   "cell_type": "code",
   "execution_count": 165,
   "metadata": {},
   "outputs": [],
   "source": [
    "def test_model(reg,df_train,cv):\n",
    "    # Cross validation\n",
    "    y_pred_lng = cross_val_predict(reg, df_train, ground_truth_lng_filter,cv=cv.split(df_train,groups=dev_id))\n",
    "    y_pred_lat = cross_val_predict(reg, df_train, ground_truth_lat_filter,cv=cv.split(df_train,groups=dev_id))\n",
    "\n",
    "    err_vec = Eval_geoloc(ground_truth_lat_filter , ground_truth_lng_filter, y_pred_lat, y_pred_lng)\n",
    "\n",
    "    # Plot error distribution\n",
    "\n",
    "    values, base = np.histogram(err_vec, bins=50000)\n",
    "    cumulative = np.cumsum(values)\n",
    "    plt.figure()\n",
    "    plt.plot(base[:-1], cumulative / np.float(np.sum(values))  * 100.0, c='blue')\n",
    "    plt.grid()\n",
    "    plt.xlabel('Distance Error (km)'); plt.ylabel('Cum proba (%)'); plt.axis([0, 30, 0, 100])\n",
    "    plt.title('Error Cumulative Probability'); plt.legend( [\"Opt LLR\", \"LLR 95\", \"LLR 99\"])\n",
    "\n",
    "    # Error criterion\n",
    "    print(np.percentile(err_vec, 80))"
   ]
  },
  {
   "cell_type": "code",
   "execution_count": 202,
   "metadata": {},
   "outputs": [],
   "source": [
    "# n_splits=2 pour aller encore plus vite en gscv\n",
    "g_k2 = GroupKFold(n_splits=2)"
   ]
  },
  {
   "cell_type": "code",
   "execution_count": 233,
   "metadata": {
    "scrolled": true
   },
   "outputs": [],
   "source": [
    "def gscv(model,param_grid,X, y,cv, semilogx=False):\n",
    "    '''helper function pour effectuer du grid search sur un hyperparamètre du modèle et afficher la courbe de scores\n",
    "    et le paramètre optimal'''\n",
    "    gscv = GridSearchCV(model,param_grid=param_grid,cv=cv)\n",
    "    gscv.fit(X, y, groups=dev_id)\n",
    "    print(\"mean CV score\",gscv.cv_results_['mean_test_score'])\n",
    "    print(\"best param:\",gscv.best_params_, gscv.best_score_)\n",
    "    best_param = list(gscv.best_params_.values())[0]\n",
    "    if semilogx:\n",
    "        plt.semilogx(grid,gscv.cv_results_['mean_test_score'])\n",
    "        plt.semilogx(best_param, gscv.best_score_,'ro')\n",
    "    else:\n",
    "        plt.plot(grid,gscv.cv_results_['mean_test_score'])\n",
    "        plt.plot(best_param, gscv.best_score_,'ro');"
   ]
  },
  {
   "cell_type": "markdown",
   "metadata": {},
   "source": [
    "### Test pseudo distance"
   ]
  },
  {
   "cell_type": "code",
   "execution_count": 275,
   "metadata": {},
   "outputs": [],
   "source": [
    "from sklearn.ensemble import RandomForestRegressor\n",
    "reg = RandomForestRegressor()"
   ]
  },
  {
   "cell_type": "code",
   "execution_count": 317,
   "metadata": {},
   "outputs": [
    {
     "data": {
      "text/html": [
       "<div>\n",
       "<style scoped>\n",
       "    .dataframe tbody tr th:only-of-type {\n",
       "        vertical-align: middle;\n",
       "    }\n",
       "\n",
       "    .dataframe tbody tr th {\n",
       "        vertical-align: top;\n",
       "    }\n",
       "\n",
       "    .dataframe thead th {\n",
       "        text-align: right;\n",
       "    }\n",
       "</style>\n",
       "<table border=\"1\" class=\"dataframe\">\n",
       "  <thead>\n",
       "    <tr style=\"text-align: right;\">\n",
       "      <th></th>\n",
       "      <th>messid</th>\n",
       "      <th>bsid</th>\n",
       "      <th>did</th>\n",
       "      <th>nseq</th>\n",
       "      <th>rssi</th>\n",
       "      <th>time_ux</th>\n",
       "      <th>bs_lat</th>\n",
       "      <th>bs_lng</th>\n",
       "      <th>lat</th>\n",
       "      <th>lng</th>\n",
       "      <th>d_base</th>\n",
       "    </tr>\n",
       "  </thead>\n",
       "  <tbody>\n",
       "    <tr>\n",
       "      <th>0</th>\n",
       "      <td>573bf1d9864fce1a9af8c5c9</td>\n",
       "      <td>2841</td>\n",
       "      <td>473335.0</td>\n",
       "      <td>0.5</td>\n",
       "      <td>-121.5</td>\n",
       "      <td>1.463546e+12</td>\n",
       "      <td>39.617794</td>\n",
       "      <td>-104.954917</td>\n",
       "      <td>39.606690</td>\n",
       "      <td>-104.958490</td>\n",
       "      <td>1.270478</td>\n",
       "    </tr>\n",
       "    <tr>\n",
       "      <th>1</th>\n",
       "      <td>573bf1d9864fce1a9af8c5c9</td>\n",
       "      <td>3526</td>\n",
       "      <td>473335.0</td>\n",
       "      <td>2.0</td>\n",
       "      <td>-125.0</td>\n",
       "      <td>1.463546e+12</td>\n",
       "      <td>39.677251</td>\n",
       "      <td>-104.952721</td>\n",
       "      <td>39.606690</td>\n",
       "      <td>-104.958490</td>\n",
       "      <td>7.849924</td>\n",
       "    </tr>\n",
       "    <tr>\n",
       "      <th>2</th>\n",
       "      <td>573bf3533e952e19126b256a</td>\n",
       "      <td>2605</td>\n",
       "      <td>473335.0</td>\n",
       "      <td>1.0</td>\n",
       "      <td>-134.0</td>\n",
       "      <td>1.463547e+12</td>\n",
       "      <td>39.612745</td>\n",
       "      <td>-105.008827</td>\n",
       "      <td>39.637741</td>\n",
       "      <td>-104.958554</td>\n",
       "      <td>5.131578</td>\n",
       "    </tr>\n",
       "    <tr>\n",
       "      <th>3</th>\n",
       "      <td>573c0cd0f0fe6e735a699b93</td>\n",
       "      <td>2610</td>\n",
       "      <td>473953.0</td>\n",
       "      <td>2.0</td>\n",
       "      <td>-132.0</td>\n",
       "      <td>1.463553e+12</td>\n",
       "      <td>39.797969</td>\n",
       "      <td>-105.073460</td>\n",
       "      <td>39.730417</td>\n",
       "      <td>-104.968940</td>\n",
       "      <td>11.681759</td>\n",
       "    </tr>\n",
       "    <tr>\n",
       "      <th>4</th>\n",
       "      <td>573c0cd0f0fe6e735a699b93</td>\n",
       "      <td>3574</td>\n",
       "      <td>473953.0</td>\n",
       "      <td>1.0</td>\n",
       "      <td>-120.0</td>\n",
       "      <td>1.463553e+12</td>\n",
       "      <td>39.723151</td>\n",
       "      <td>-104.956216</td>\n",
       "      <td>39.730417</td>\n",
       "      <td>-104.968940</td>\n",
       "      <td>1.356862</td>\n",
       "    </tr>\n",
       "  </tbody>\n",
       "</table>\n",
       "</div>"
      ],
      "text/plain": [
       "                     messid  bsid       did  nseq   rssi       time_ux  \\\n",
       "0  573bf1d9864fce1a9af8c5c9  2841  473335.0   0.5 -121.5  1.463546e+12   \n",
       "1  573bf1d9864fce1a9af8c5c9  3526  473335.0   2.0 -125.0  1.463546e+12   \n",
       "2  573bf3533e952e19126b256a  2605  473335.0   1.0 -134.0  1.463547e+12   \n",
       "3  573c0cd0f0fe6e735a699b93  2610  473953.0   2.0 -132.0  1.463553e+12   \n",
       "4  573c0cd0f0fe6e735a699b93  3574  473953.0   1.0 -120.0  1.463553e+12   \n",
       "\n",
       "      bs_lat      bs_lng        lat         lng     d_base  \n",
       "0  39.617794 -104.954917  39.606690 -104.958490   1.270478  \n",
       "1  39.677251 -104.952721  39.606690 -104.958490   7.849924  \n",
       "2  39.612745 -105.008827  39.637741 -104.958554   5.131578  \n",
       "3  39.797969 -105.073460  39.730417 -104.968940  11.681759  \n",
       "4  39.723151 -104.956216  39.730417 -104.968940   1.356862  "
      ]
     },
     "execution_count": 317,
     "metadata": {},
     "output_type": "execute_result"
    }
   ],
   "source": [
    "df_mess_train_filter.head()"
   ]
  },
  {
   "cell_type": "code",
   "execution_count": 318,
   "metadata": {},
   "outputs": [
    {
     "data": {
      "text/plain": [
       "RandomForestRegressor()"
      ]
     },
     "execution_count": 318,
     "metadata": {},
     "output_type": "execute_result"
    }
   ],
   "source": [
    "reg.fit(df_mess_train_filter[['rssi']],df_mess_train_filter['d_base'])"
   ]
  },
  {
   "cell_type": "code",
   "execution_count": 319,
   "metadata": {},
   "outputs": [
    {
     "data": {
      "text/plain": [
       "array([4.8413656 , 5.53510729, 7.41261499, ..., 5.51015692, 5.92281753,\n",
       "       7.63314169])"
      ]
     },
     "execution_count": 319,
     "metadata": {},
     "output_type": "execute_result"
    }
   ],
   "source": [
    "reg.predict(df_mess_train_filter[['rssi']])"
   ]
  },
  {
   "cell_type": "code",
   "execution_count": 320,
   "metadata": {},
   "outputs": [
    {
     "name": "stderr",
     "output_type": "stream",
     "text": [
      "<ipython-input-320-bc5f51d5edd0>:1: SettingWithCopyWarning:\n",
      "\n",
      "\n",
      "A value is trying to be set on a copy of a slice from a DataFrame.\n",
      "Try using .loc[row_indexer,col_indexer] = value instead\n",
      "\n",
      "See the caveats in the documentation: https://pandas.pydata.org/pandas-docs/stable/user_guide/indexing.html#returning-a-view-versus-a-copy\n",
      "\n"
     ]
    }
   ],
   "source": [
    "df_mess_train_filter['pseudo_d'] = reg.predict(df_mess_train_filter[['rssi']])"
   ]
  },
  {
   "cell_type": "code",
   "execution_count": 321,
   "metadata": {},
   "outputs": [
    {
     "data": {
      "text/html": [
       "<div>\n",
       "<style scoped>\n",
       "    .dataframe tbody tr th:only-of-type {\n",
       "        vertical-align: middle;\n",
       "    }\n",
       "\n",
       "    .dataframe tbody tr th {\n",
       "        vertical-align: top;\n",
       "    }\n",
       "\n",
       "    .dataframe thead th {\n",
       "        text-align: right;\n",
       "    }\n",
       "</style>\n",
       "<table border=\"1\" class=\"dataframe\">\n",
       "  <thead>\n",
       "    <tr style=\"text-align: right;\">\n",
       "      <th></th>\n",
       "      <th>messid</th>\n",
       "      <th>bsid</th>\n",
       "      <th>did</th>\n",
       "      <th>nseq</th>\n",
       "      <th>rssi</th>\n",
       "      <th>time_ux</th>\n",
       "      <th>bs_lat</th>\n",
       "      <th>bs_lng</th>\n",
       "      <th>lat</th>\n",
       "      <th>lng</th>\n",
       "      <th>d_base</th>\n",
       "      <th>pseudo_d</th>\n",
       "    </tr>\n",
       "  </thead>\n",
       "  <tbody>\n",
       "    <tr>\n",
       "      <th>0</th>\n",
       "      <td>573bf1d9864fce1a9af8c5c9</td>\n",
       "      <td>2841</td>\n",
       "      <td>473335.0</td>\n",
       "      <td>0.5</td>\n",
       "      <td>-121.5</td>\n",
       "      <td>1.463546e+12</td>\n",
       "      <td>39.617794</td>\n",
       "      <td>-104.954917</td>\n",
       "      <td>39.606690</td>\n",
       "      <td>-104.958490</td>\n",
       "      <td>1.270478</td>\n",
       "      <td>4.841366</td>\n",
       "    </tr>\n",
       "    <tr>\n",
       "      <th>1</th>\n",
       "      <td>573bf1d9864fce1a9af8c5c9</td>\n",
       "      <td>3526</td>\n",
       "      <td>473335.0</td>\n",
       "      <td>2.0</td>\n",
       "      <td>-125.0</td>\n",
       "      <td>1.463546e+12</td>\n",
       "      <td>39.677251</td>\n",
       "      <td>-104.952721</td>\n",
       "      <td>39.606690</td>\n",
       "      <td>-104.958490</td>\n",
       "      <td>7.849924</td>\n",
       "      <td>5.535107</td>\n",
       "    </tr>\n",
       "    <tr>\n",
       "      <th>2</th>\n",
       "      <td>573bf3533e952e19126b256a</td>\n",
       "      <td>2605</td>\n",
       "      <td>473335.0</td>\n",
       "      <td>1.0</td>\n",
       "      <td>-134.0</td>\n",
       "      <td>1.463547e+12</td>\n",
       "      <td>39.612745</td>\n",
       "      <td>-105.008827</td>\n",
       "      <td>39.637741</td>\n",
       "      <td>-104.958554</td>\n",
       "      <td>5.131578</td>\n",
       "      <td>7.412615</td>\n",
       "    </tr>\n",
       "    <tr>\n",
       "      <th>3</th>\n",
       "      <td>573c0cd0f0fe6e735a699b93</td>\n",
       "      <td>2610</td>\n",
       "      <td>473953.0</td>\n",
       "      <td>2.0</td>\n",
       "      <td>-132.0</td>\n",
       "      <td>1.463553e+12</td>\n",
       "      <td>39.797969</td>\n",
       "      <td>-105.073460</td>\n",
       "      <td>39.730417</td>\n",
       "      <td>-104.968940</td>\n",
       "      <td>11.681759</td>\n",
       "      <td>6.915121</td>\n",
       "    </tr>\n",
       "    <tr>\n",
       "      <th>4</th>\n",
       "      <td>573c0cd0f0fe6e735a699b93</td>\n",
       "      <td>3574</td>\n",
       "      <td>473953.0</td>\n",
       "      <td>1.0</td>\n",
       "      <td>-120.0</td>\n",
       "      <td>1.463553e+12</td>\n",
       "      <td>39.723151</td>\n",
       "      <td>-104.956216</td>\n",
       "      <td>39.730417</td>\n",
       "      <td>-104.968940</td>\n",
       "      <td>1.356862</td>\n",
       "      <td>4.253008</td>\n",
       "    </tr>\n",
       "  </tbody>\n",
       "</table>\n",
       "</div>"
      ],
      "text/plain": [
       "                     messid  bsid       did  nseq   rssi       time_ux  \\\n",
       "0  573bf1d9864fce1a9af8c5c9  2841  473335.0   0.5 -121.5  1.463546e+12   \n",
       "1  573bf1d9864fce1a9af8c5c9  3526  473335.0   2.0 -125.0  1.463546e+12   \n",
       "2  573bf3533e952e19126b256a  2605  473335.0   1.0 -134.0  1.463547e+12   \n",
       "3  573c0cd0f0fe6e735a699b93  2610  473953.0   2.0 -132.0  1.463553e+12   \n",
       "4  573c0cd0f0fe6e735a699b93  3574  473953.0   1.0 -120.0  1.463553e+12   \n",
       "\n",
       "      bs_lat      bs_lng        lat         lng     d_base  pseudo_d  \n",
       "0  39.617794 -104.954917  39.606690 -104.958490   1.270478  4.841366  \n",
       "1  39.677251 -104.952721  39.606690 -104.958490   7.849924  5.535107  \n",
       "2  39.612745 -105.008827  39.637741 -104.958554   5.131578  7.412615  \n",
       "3  39.797969 -105.073460  39.730417 -104.968940  11.681759  6.915121  \n",
       "4  39.723151 -104.956216  39.730417 -104.968940   1.356862  4.253008  "
      ]
     },
     "execution_count": 321,
     "metadata": {},
     "output_type": "execute_result"
    }
   ],
   "source": [
    "df_mess_train_filter.head()"
   ]
  },
  {
   "cell_type": "code",
   "execution_count": 322,
   "metadata": {},
   "outputs": [
    {
     "data": {
      "image/png": "[encoded data removed]",
      "text/plain": [
       "<Figure size 432x288 with 1 Axes>"
      ]
     },
     "metadata": {
      "needs_background": "light"
     },
     "output_type": "display_data"
    }
   ],
   "source": [
    "plt.scatter(df_mess_train_filter['d_base'], df_mess_train_filter[['pseudo_d']], alpha=0.2)\n",
    "plt.xlabel('d_base')\n",
    "plt.ylabel('pseudo_d');"
   ]
  },
  {
   "cell_type": "code",
   "execution_count": 323,
   "metadata": {},
   "outputs": [
    {
     "data": {
      "image/png": "[encoded data removed]",
      "text/plain": [
       "<Figure size 432x288 with 1 Axes>"
      ]
     },
     "metadata": {
      "needs_background": "light"
     },
     "output_type": "display_data"
    }
   ],
   "source": [
    "sns.regplot(x=df_mess_train_filter['d_base'],y=df_mess_train_filter[['pseudo_d']],line_kws={'color':'r'},\n",
    "            scatter_kws={'alpha':0.2});"
   ]
  },
  {
   "cell_type": "code",
   "execution_count": 324,
   "metadata": {},
   "outputs": [
    {
     "data": {
      "text/plain": [
       "0.11039018497519615"
      ]
     },
     "execution_count": 324,
     "metadata": {},
     "output_type": "execute_result"
    }
   ],
   "source": [
    "reg.score(df_mess_train_filter[['rssi']],df_mess_train_filter['d_base'])"
   ]
  },
  {
   "cell_type": "code",
   "execution_count": 286,
   "metadata": {},
   "outputs": [],
   "source": [
    "# Feature Matrix construction pseudo distances\n",
    "\n",
    "def feat_mat_const3(df_mess_train, listOfBs):\n",
    "\n",
    "    df_mess_bs_group = df_mess_train.groupby(['messid'], as_index=False) # group data by message (messid)\n",
    "    nb_mess = len(np.unique(df_mess_train['messid']))\n",
    "    df_feat = pd.DataFrame(np.zeros((nb_mess,len(listOfBs))) + 200, columns = listOfBs) # feature matrix\n",
    "    idx = 0\n",
    "    id_list = [0] * nb_mess\n",
    "\n",
    "    for key, elmt in df_mess_bs_group:\n",
    "#         group = df_mess_bs_group.get_group(key)\n",
    "#         df_feat.loc[idx,group['bsid']] = group['rssi'].values\n",
    "        df_feat.loc[idx,elmt['bsid']] = elmt['pseudo_d'].values\n",
    "        id_list[idx] = key\n",
    "        idx = idx + 1\n",
    "    \n",
    "    return df_feat, id_list # add id value of each message for the correspondance to message  "
   ]
  },
  {
   "cell_type": "code",
   "execution_count": 325,
   "metadata": {},
   "outputs": [
    {
     "data": {
      "text/html": [
       "<div>\n",
       "<style scoped>\n",
       "    .dataframe tbody tr th:only-of-type {\n",
       "        vertical-align: middle;\n",
       "    }\n",
       "\n",
       "    .dataframe tbody tr th {\n",
       "        vertical-align: top;\n",
       "    }\n",
       "\n",
       "    .dataframe thead th {\n",
       "        text-align: right;\n",
       "    }\n",
       "</style>\n",
       "<table border=\"1\" class=\"dataframe\">\n",
       "  <thead>\n",
       "    <tr style=\"text-align: right;\">\n",
       "      <th></th>\n",
       "      <th>879</th>\n",
       "      <th>911</th>\n",
       "      <th>921</th>\n",
       "      <th>944</th>\n",
       "      <th>980</th>\n",
       "      <th>1012</th>\n",
       "      <th>1086</th>\n",
       "      <th>1092</th>\n",
       "      <th>1120</th>\n",
       "      <th>1131</th>\n",
       "      <th>...</th>\n",
       "      <th>9936</th>\n",
       "      <th>9941</th>\n",
       "      <th>9949</th>\n",
       "      <th>10134</th>\n",
       "      <th>10148</th>\n",
       "      <th>10151</th>\n",
       "      <th>10162</th>\n",
       "      <th>10999</th>\n",
       "      <th>11007</th>\n",
       "      <th>11951</th>\n",
       "    </tr>\n",
       "  </thead>\n",
       "  <tbody>\n",
       "    <tr>\n",
       "      <th>0</th>\n",
       "      <td>200.0</td>\n",
       "      <td>200.0</td>\n",
       "      <td>200.0</td>\n",
       "      <td>200.0</td>\n",
       "      <td>200.0</td>\n",
       "      <td>200.0</td>\n",
       "      <td>200.000000</td>\n",
       "      <td>200.0</td>\n",
       "      <td>200.0</td>\n",
       "      <td>200.0</td>\n",
       "      <td>...</td>\n",
       "      <td>200.0</td>\n",
       "      <td>200.0</td>\n",
       "      <td>200.0</td>\n",
       "      <td>200.0</td>\n",
       "      <td>200.0</td>\n",
       "      <td>200.0</td>\n",
       "      <td>200.0</td>\n",
       "      <td>200.0</td>\n",
       "      <td>200.0</td>\n",
       "      <td>200.0</td>\n",
       "    </tr>\n",
       "    <tr>\n",
       "      <th>1</th>\n",
       "      <td>200.0</td>\n",
       "      <td>200.0</td>\n",
       "      <td>200.0</td>\n",
       "      <td>200.0</td>\n",
       "      <td>200.0</td>\n",
       "      <td>200.0</td>\n",
       "      <td>200.000000</td>\n",
       "      <td>200.0</td>\n",
       "      <td>200.0</td>\n",
       "      <td>200.0</td>\n",
       "      <td>...</td>\n",
       "      <td>200.0</td>\n",
       "      <td>200.0</td>\n",
       "      <td>200.0</td>\n",
       "      <td>200.0</td>\n",
       "      <td>200.0</td>\n",
       "      <td>200.0</td>\n",
       "      <td>200.0</td>\n",
       "      <td>200.0</td>\n",
       "      <td>200.0</td>\n",
       "      <td>200.0</td>\n",
       "    </tr>\n",
       "    <tr>\n",
       "      <th>2</th>\n",
       "      <td>200.0</td>\n",
       "      <td>200.0</td>\n",
       "      <td>200.0</td>\n",
       "      <td>200.0</td>\n",
       "      <td>200.0</td>\n",
       "      <td>200.0</td>\n",
       "      <td>200.000000</td>\n",
       "      <td>200.0</td>\n",
       "      <td>200.0</td>\n",
       "      <td>200.0</td>\n",
       "      <td>...</td>\n",
       "      <td>200.0</td>\n",
       "      <td>200.0</td>\n",
       "      <td>200.0</td>\n",
       "      <td>200.0</td>\n",
       "      <td>200.0</td>\n",
       "      <td>200.0</td>\n",
       "      <td>200.0</td>\n",
       "      <td>200.0</td>\n",
       "      <td>200.0</td>\n",
       "      <td>200.0</td>\n",
       "    </tr>\n",
       "    <tr>\n",
       "      <th>3</th>\n",
       "      <td>200.0</td>\n",
       "      <td>200.0</td>\n",
       "      <td>200.0</td>\n",
       "      <td>200.0</td>\n",
       "      <td>200.0</td>\n",
       "      <td>200.0</td>\n",
       "      <td>200.000000</td>\n",
       "      <td>200.0</td>\n",
       "      <td>200.0</td>\n",
       "      <td>200.0</td>\n",
       "      <td>...</td>\n",
       "      <td>200.0</td>\n",
       "      <td>200.0</td>\n",
       "      <td>200.0</td>\n",
       "      <td>200.0</td>\n",
       "      <td>200.0</td>\n",
       "      <td>200.0</td>\n",
       "      <td>200.0</td>\n",
       "      <td>200.0</td>\n",
       "      <td>200.0</td>\n",
       "      <td>200.0</td>\n",
       "    </tr>\n",
       "    <tr>\n",
       "      <th>4</th>\n",
       "      <td>200.0</td>\n",
       "      <td>200.0</td>\n",
       "      <td>200.0</td>\n",
       "      <td>200.0</td>\n",
       "      <td>200.0</td>\n",
       "      <td>200.0</td>\n",
       "      <td>7.949054</td>\n",
       "      <td>200.0</td>\n",
       "      <td>200.0</td>\n",
       "      <td>200.0</td>\n",
       "      <td>...</td>\n",
       "      <td>200.0</td>\n",
       "      <td>200.0</td>\n",
       "      <td>200.0</td>\n",
       "      <td>200.0</td>\n",
       "      <td>200.0</td>\n",
       "      <td>200.0</td>\n",
       "      <td>200.0</td>\n",
       "      <td>200.0</td>\n",
       "      <td>200.0</td>\n",
       "      <td>200.0</td>\n",
       "    </tr>\n",
       "  </tbody>\n",
       "</table>\n",
       "<p>5 rows × 259 columns</p>\n",
       "</div>"
      ],
      "text/plain": [
       "   879    911    921    944    980    1012        1086   1092   1120   1131   \\\n",
       "0  200.0  200.0  200.0  200.0  200.0  200.0  200.000000  200.0  200.0  200.0   \n",
       "1  200.0  200.0  200.0  200.0  200.0  200.0  200.000000  200.0  200.0  200.0   \n",
       "2  200.0  200.0  200.0  200.0  200.0  200.0  200.000000  200.0  200.0  200.0   \n",
       "3  200.0  200.0  200.0  200.0  200.0  200.0  200.000000  200.0  200.0  200.0   \n",
       "4  200.0  200.0  200.0  200.0  200.0  200.0    7.949054  200.0  200.0  200.0   \n",
       "\n",
       "   ...  9936   9941   9949   10134  10148  10151  10162  10999  11007  11951  \n",
       "0  ...  200.0  200.0  200.0  200.0  200.0  200.0  200.0  200.0  200.0  200.0  \n",
       "1  ...  200.0  200.0  200.0  200.0  200.0  200.0  200.0  200.0  200.0  200.0  \n",
       "2  ...  200.0  200.0  200.0  200.0  200.0  200.0  200.0  200.0  200.0  200.0  \n",
       "3  ...  200.0  200.0  200.0  200.0  200.0  200.0  200.0  200.0  200.0  200.0  \n",
       "4  ...  200.0  200.0  200.0  200.0  200.0  200.0  200.0  200.0  200.0  200.0  \n",
       "\n",
       "[5 rows x 259 columns]"
      ]
     },
     "execution_count": 325,
     "metadata": {},
     "output_type": "execute_result"
    }
   ],
   "source": [
    "# on regroupe les infos par message feat pseudo_distances\n",
    "df_feat3, id_list_train3 = feat_mat_const3(df_mess_train_filter, listOfBs)\n",
    "df_feat3.head()"
   ]
  },
  {
   "cell_type": "markdown",
   "metadata": {},
   "source": [
    "### LinearRegression"
   ]
  },
  {
   "cell_type": "code",
   "execution_count": 326,
   "metadata": {},
   "outputs": [],
   "source": [
    "from sklearn import linear_model"
   ]
  },
  {
   "cell_type": "code",
   "execution_count": 57,
   "metadata": {},
   "outputs": [],
   "source": [
    "# with feat 0/1 & leave one group out"
   ]
  },
  {
   "cell_type": "code",
   "execution_count": 327,
   "metadata": {},
   "outputs": [
    {
     "name": "stdout",
     "output_type": "stream",
     "text": [
      "12.470912400000014\n"
     ]
    },
    {
     "data": {
      "image/png": "[encoded data removed]",
      "text/plain": [
       "<Figure size 432x288 with 1 Axes>"
      ]
     },
     "metadata": {
      "needs_background": "light"
     },
     "output_type": "display_data"
    }
   ],
   "source": [
    "reg = linear_model.LinearRegression()\n",
    "test_model(reg, df_feat, logo)"
   ]
  },
  {
   "cell_type": "code",
   "execution_count": 233,
   "metadata": {},
   "outputs": [],
   "source": [
    "# with rssi features LOGO"
   ]
  },
  {
   "cell_type": "code",
   "execution_count": 328,
   "metadata": {},
   "outputs": [
    {
     "name": "stdout",
     "output_type": "stream",
     "text": [
      "12.435958400000017\n"
     ]
    },
    {
     "data": {
      "image/png": "[encoded data removed]",
      "text/plain": [
       "<Figure size 432x288 with 1 Axes>"
      ]
     },
     "metadata": {
      "needs_background": "light"
     },
     "output_type": "display_data"
    }
   ],
   "source": [
    "reg = linear_model.LinearRegression()\n",
    "test_model(reg, df_feat2, logo)"
   ]
  },
  {
   "cell_type": "markdown",
   "metadata": {},
   "source": [
    "### RandomForestRegressor"
   ]
  },
  {
   "cell_type": "code",
   "execution_count": 96,
   "metadata": {},
   "outputs": [],
   "source": [
    "from sklearn.ensemble import RandomForestRegressor"
   ]
  },
  {
   "cell_type": "code",
   "execution_count": 97,
   "metadata": {},
   "outputs": [],
   "source": [
    "# with 0/1 feat LOGO Très Très Long !"
   ]
  },
  {
   "cell_type": "code",
   "execution_count": null,
   "metadata": {},
   "outputs": [],
   "source": [
    "# with 0/1 feat group_kfold 10 OK"
   ]
  },
  {
   "cell_type": "code",
   "execution_count": 329,
   "metadata": {
    "scrolled": true
   },
   "outputs": [
    {
     "name": "stdout",
     "output_type": "stream",
     "text": [
      "6.0803672\n"
     ]
    },
    {
     "data": {
      "image/png": "[encoded data removed]",
      "text/plain": [
       "<Figure size 432x288 with 1 Axes>"
      ]
     },
     "metadata": {
      "needs_background": "light"
     },
     "output_type": "display_data"
    }
   ],
   "source": [
    "reg = RandomForestRegressor()\n",
    "test_model(reg, df_feat, group_kfold)"
   ]
  },
  {
   "cell_type": "code",
   "execution_count": 271,
   "metadata": {},
   "outputs": [
    {
     "data": {
      "text/plain": [
       "array([ 50,  64,  83, 107, 139, 180, 232, 300, 388, 501])"
      ]
     },
     "execution_count": 271,
     "metadata": {},
     "output_type": "execute_result"
    }
   ],
   "source": [
    "grid = np.logspace(1.7,2.7,10).astype(int)\n",
    "grid"
   ]
  },
  {
   "cell_type": "code",
   "execution_count": 272,
   "metadata": {},
   "outputs": [],
   "source": [
    "param_grid = {'n_estimators': grid}"
   ]
  },
  {
   "cell_type": "code",
   "execution_count": 273,
   "metadata": {},
   "outputs": [
    {
     "name": "stdout",
     "output_type": "stream",
     "text": [
      "mean CV score [0.64411076 0.65252035 0.65279546 0.64002115 0.65323402 0.64914488\n",
      " 0.64952141 0.64640603 0.65254197 0.65269639]\n",
      "best param: {'n_estimators': 139} 0.653234020132302\n"
     ]
    },
    {
     "data": {
      "image/png": "[encoded data removed]",
      "text/plain": [
       "<Figure size 432x288 with 1 Axes>"
      ]
     },
     "metadata": {
      "needs_background": "light"
     },
     "output_type": "display_data"
    }
   ],
   "source": [
    "reg = RandomForestRegressor()\n",
    "gscv(reg,param_grid, df_feat ,ground_truth_lng_filter, g_k2)"
   ]
  },
  {
   "cell_type": "code",
   "execution_count": 166,
   "metadata": {},
   "outputs": [],
   "source": [
    "# with rssi group_kfold 10 OK"
   ]
  },
  {
   "cell_type": "code",
   "execution_count": 330,
   "metadata": {},
   "outputs": [
    {
     "name": "stdout",
     "output_type": "stream",
     "text": [
      "6.658508800000001\n"
     ]
    },
    {
     "data": {
      "image/png": "[encoded data removed]",
      "text/plain": [
       "<Figure size 432x288 with 1 Axes>"
      ]
     },
     "metadata": {
      "needs_background": "light"
     },
     "output_type": "display_data"
    }
   ],
   "source": [
    "reg = RandomForestRegressor()\n",
    "test_model(reg, df_feat2, group_kfold)"
   ]
  },
  {
   "cell_type": "code",
   "execution_count": 166,
   "metadata": {},
   "outputs": [],
   "source": [
    "# with pseudo_distance group_kfold 10 "
   ]
  },
  {
   "cell_type": "code",
   "execution_count": 289,
   "metadata": {},
   "outputs": [
    {
     "name": "stdout",
     "output_type": "stream",
     "text": [
      "6.632065800000002\n"
     ]
    },
    {
     "data": {
      "image/png": "[encoded data removed]",
      "text/plain": [
       "<Figure size 432x288 with 1 Axes>"
      ]
     },
     "metadata": {
      "needs_background": "light"
     },
     "output_type": "display_data"
    }
   ],
   "source": [
    "reg = RandomForestRegressor()\n",
    "test_model(reg, df_feat3, group_kfold)"
   ]
  },
  {
   "cell_type": "markdown",
   "metadata": {},
   "source": [
    "### Knn"
   ]
  },
  {
   "cell_type": "code",
   "execution_count": 142,
   "metadata": {},
   "outputs": [],
   "source": [
    "from sklearn.neighbors import KNeighborsRegressor"
   ]
  },
  {
   "cell_type": "code",
   "execution_count": null,
   "metadata": {},
   "outputs": [],
   "source": [
    "# with 0/1 feat group_kfold 10"
   ]
  },
  {
   "cell_type": "code",
   "execution_count": 331,
   "metadata": {},
   "outputs": [
    {
     "name": "stdout",
     "output_type": "stream",
     "text": [
      "6.125828200000001\n"
     ]
    },
    {
     "data": {
      "image/png": "[encoded data removed]",
      "text/plain": [
       "<Figure size 432x288 with 1 Axes>"
      ]
     },
     "metadata": {
      "needs_background": "light"
     },
     "output_type": "display_data"
    }
   ],
   "source": [
    "reg = KNeighborsRegressor()\n",
    "test_model(reg, df_feat, group_kfold)"
   ]
  },
  {
   "cell_type": "code",
   "execution_count": 332,
   "metadata": {},
   "outputs": [],
   "source": [
    "# with rssi group_kfold 10"
   ]
  },
  {
   "cell_type": "code",
   "execution_count": 333,
   "metadata": {},
   "outputs": [
    {
     "name": "stdout",
     "output_type": "stream",
     "text": [
      "5.686495600000001\n"
     ]
    },
    {
     "data": {
      "image/png": "[encoded data removed]",
      "text/plain": [
       "<Figure size 432x288 with 1 Axes>"
      ]
     },
     "metadata": {
      "needs_background": "light"
     },
     "output_type": "display_data"
    }
   ],
   "source": [
    "reg = KNeighborsRegressor()\n",
    "test_model(reg, df_feat2, group_kfold)"
   ]
  },
  {
   "cell_type": "code",
   "execution_count": 334,
   "metadata": {},
   "outputs": [],
   "source": [
    "# with pseudo distance group_kfold"
   ]
  },
  {
   "cell_type": "code",
   "execution_count": 335,
   "metadata": {},
   "outputs": [
    {
     "name": "stdout",
     "output_type": "stream",
     "text": [
      "5.860102\n"
     ]
    },
    {
     "data": {
      "image/png": "[encoded data removed]",
      "text/plain": [
       "<Figure size 432x288 with 1 Axes>"
      ]
     },
     "metadata": {
      "needs_background": "light"
     },
     "output_type": "display_data"
    }
   ],
   "source": [
    "reg = KNeighborsRegressor()\n",
    "test_model(reg, df_feat3, group_kfold)"
   ]
  },
  {
   "cell_type": "markdown",
   "metadata": {},
   "source": [
    "### GradientBoostingRegressor"
   ]
  },
  {
   "cell_type": "code",
   "execution_count": 336,
   "metadata": {},
   "outputs": [],
   "source": [
    "from sklearn.ensemble import GradientBoostingRegressor"
   ]
  },
  {
   "cell_type": "code",
   "execution_count": 337,
   "metadata": {},
   "outputs": [
    {
     "name": "stdout",
     "output_type": "stream",
     "text": [
      "8.2787638\n"
     ]
    },
    {
     "data": {
      "image/png": "[encoded data removed]",
      "text/plain": [
       "<Figure size 432x288 with 1 Axes>"
      ]
     },
     "metadata": {
      "needs_background": "light"
     },
     "output_type": "display_data"
    }
   ],
   "source": [
    "# with 0/1 feat group_kfold 10 OK\n",
    "reg = GradientBoostingRegressor(n_estimators=500)\n",
    "test_model(reg, df_feat, group_kfold)"
   ]
  },
  {
   "cell_type": "code",
   "execution_count": null,
   "metadata": {},
   "outputs": [],
   "source": [
    "# with rssi group_kfold 10 "
   ]
  },
  {
   "cell_type": "code",
   "execution_count": 338,
   "metadata": {
    "scrolled": true
   },
   "outputs": [
    {
     "name": "stdout",
     "output_type": "stream",
     "text": [
      "8.621531000000001\n"
     ]
    },
    {
     "data": {
      "image/png": "[encoded data removed]",
      "text/plain": [
       "<Figure size 432x288 with 1 Axes>"
      ]
     },
     "metadata": {
      "needs_background": "light"
     },
     "output_type": "display_data"
    }
   ],
   "source": [
    "reg = GradientBoostingRegressor(n_estimators=500)\n",
    "test_model(reg, df_feat2, group_kfold)"
   ]
  },
  {
   "cell_type": "markdown",
   "metadata": {},
   "source": [
    "### XGBoost Regressor"
   ]
  },
  {
   "cell_type": "code",
   "execution_count": 174,
   "metadata": {},
   "outputs": [],
   "source": [
    "import xgboost as xgb\n",
    "from xgboost import XGBRegressor"
   ]
  },
  {
   "cell_type": "code",
   "execution_count": 339,
   "metadata": {},
   "outputs": [
    {
     "name": "stdout",
     "output_type": "stream",
     "text": [
      "7.053392200000001\n"
     ]
    },
    {
     "data": {
      "image/png": "[encoded data removed]",
      "text/plain": [
       "<Figure size 432x288 with 1 Axes>"
      ]
     },
     "metadata": {
      "needs_background": "light"
     },
     "output_type": "display_data"
    }
   ],
   "source": [
    "# with 0/1 feat group_kfold 10 OK\n",
    "reg = XGBRegressor(n_estimators=500)\n",
    "test_model(reg, df_feat, group_kfold)"
   ]
  },
  {
   "cell_type": "code",
   "execution_count": 340,
   "metadata": {},
   "outputs": [
    {
     "name": "stdout",
     "output_type": "stream",
     "text": [
      "8.204867000000005\n"
     ]
    },
    {
     "data": {
      "image/png": "[encoded data removed]",
      "text/plain": [
       "<Figure size 432x288 with 1 Axes>"
      ]
     },
     "metadata": {
      "needs_background": "light"
     },
     "output_type": "display_data"
    }
   ],
   "source": [
    "# with rssi group_kfold 10 OK\n",
    "reg = XGBRegressor(n_estimators=500)\n",
    "test_model(reg, df_feat2, group_kfold)"
   ]
  },
  {
   "cell_type": "code",
   "execution_count": null,
   "metadata": {},
   "outputs": [],
   "source": []
  },
  {
   "cell_type": "code",
   "execution_count": null,
   "metadata": {},
   "outputs": [],
   "source": []
  },
  {
   "cell_type": "code",
   "execution_count": null,
   "metadata": {},
   "outputs": [],
   "source": []
  },
  {
   "cell_type": "code",
   "execution_count": null,
   "metadata": {},
   "outputs": [],
   "source": []
  },
  {
   "cell_type": "code",
   "execution_count": 25,
   "metadata": {},
   "outputs": [],
   "source": [
    "# Construct test prediction"
   ]
  },
  {
   "cell_type": "code",
   "execution_count": 44,
   "metadata": {},
   "outputs": [
    {
     "data": {
      "text/html": [
       "<div>\n",
       "<style scoped>\n",
       "    .dataframe tbody tr th:only-of-type {\n",
       "        vertical-align: middle;\n",
       "    }\n",
       "\n",
       "    .dataframe tbody tr th {\n",
       "        vertical-align: top;\n",
       "    }\n",
       "\n",
       "    .dataframe thead th {\n",
       "        text-align: right;\n",
       "    }\n",
       "</style>\n",
       "<table border=\"1\" class=\"dataframe\">\n",
       "  <thead>\n",
       "    <tr style=\"text-align: right;\">\n",
       "      <th></th>\n",
       "      <th>messid</th>\n",
       "      <th>bsid</th>\n",
       "      <th>did</th>\n",
       "      <th>nseq</th>\n",
       "      <th>rssi</th>\n",
       "      <th>time_ux</th>\n",
       "      <th>bs_lat</th>\n",
       "      <th>bs_lng</th>\n",
       "    </tr>\n",
       "  </thead>\n",
       "  <tbody>\n",
       "    <tr>\n",
       "      <th>0</th>\n",
       "      <td>573be2503e952e191262c351</td>\n",
       "      <td>3578</td>\n",
       "      <td>116539.0</td>\n",
       "      <td>2.0</td>\n",
       "      <td>-111.0</td>\n",
       "      <td>1.463542e+12</td>\n",
       "      <td>39.728651</td>\n",
       "      <td>-105.163032</td>\n",
       "    </tr>\n",
       "    <tr>\n",
       "      <th>1</th>\n",
       "      <td>573c05f83e952e1912758013</td>\n",
       "      <td>2617</td>\n",
       "      <td>472504.0</td>\n",
       "      <td>0.0</td>\n",
       "      <td>-136.0</td>\n",
       "      <td>1.463551e+12</td>\n",
       "      <td>39.779908</td>\n",
       "      <td>-105.062479</td>\n",
       "    </tr>\n",
       "    <tr>\n",
       "      <th>2</th>\n",
       "      <td>573c05f83e952e1912758013</td>\n",
       "      <td>3556</td>\n",
       "      <td>472504.0</td>\n",
       "      <td>0.0</td>\n",
       "      <td>-127.0</td>\n",
       "      <td>1.463551e+12</td>\n",
       "      <td>39.780658</td>\n",
       "      <td>-105.053676</td>\n",
       "    </tr>\n",
       "    <tr>\n",
       "      <th>3</th>\n",
       "      <td>573c05f83e952e1912758013</td>\n",
       "      <td>3578</td>\n",
       "      <td>472504.0</td>\n",
       "      <td>0.0</td>\n",
       "      <td>-129.0</td>\n",
       "      <td>1.463551e+12</td>\n",
       "      <td>39.728651</td>\n",
       "      <td>-105.163032</td>\n",
       "    </tr>\n",
       "    <tr>\n",
       "      <th>4</th>\n",
       "      <td>573c05f83e952e1912758013</td>\n",
       "      <td>4058</td>\n",
       "      <td>472504.0</td>\n",
       "      <td>0.0</td>\n",
       "      <td>-105.0</td>\n",
       "      <td>1.463551e+12</td>\n",
       "      <td>39.783211</td>\n",
       "      <td>-105.088747</td>\n",
       "    </tr>\n",
       "  </tbody>\n",
       "</table>\n",
       "</div>"
      ],
      "text/plain": [
       "                     messid  bsid       did  nseq   rssi       time_ux  \\\n",
       "0  573be2503e952e191262c351  3578  116539.0   2.0 -111.0  1.463542e+12   \n",
       "1  573c05f83e952e1912758013  2617  472504.0   0.0 -136.0  1.463551e+12   \n",
       "2  573c05f83e952e1912758013  3556  472504.0   0.0 -127.0  1.463551e+12   \n",
       "3  573c05f83e952e1912758013  3578  472504.0   0.0 -129.0  1.463551e+12   \n",
       "4  573c05f83e952e1912758013  4058  472504.0   0.0 -105.0  1.463551e+12   \n",
       "\n",
       "      bs_lat      bs_lng  \n",
       "0  39.728651 -105.163032  \n",
       "1  39.779908 -105.062479  \n",
       "2  39.780658 -105.053676  \n",
       "3  39.728651 -105.163032  \n",
       "4  39.783211 -105.088747  "
      ]
     },
     "execution_count": 44,
     "metadata": {},
     "output_type": "execute_result"
    }
   ],
   "source": [
    "df_mess_test.head()"
   ]
  },
  {
   "cell_type": "code",
   "execution_count": 78,
   "metadata": {},
   "outputs": [],
   "source": [
    "df_feat, id_list_train = feat_mat_const(df_mess_train, listOfBs)"
   ]
  },
  {
   "cell_type": "code",
   "execution_count": 83,
   "metadata": {
    "scrolled": true
   },
   "outputs": [
    {
     "data": {
      "text/plain": [
       "(6068,)"
      ]
     },
     "execution_count": 83,
     "metadata": {},
     "output_type": "execute_result"
    }
   ],
   "source": [
    "ground_truth_lat, ground_truth_lng = ground_truth_const(df_mess_train, pos_train)\n",
    "ground_truth_lat.shape"
   ]
  },
  {
   "cell_type": "code",
   "execution_count": 84,
   "metadata": {},
   "outputs": [],
   "source": [
    "df_feat_test, id_list_test = feat_mat_const(df_mess_test, listOfBs)"
   ]
  },
  {
   "cell_type": "code",
   "execution_count": 85,
   "metadata": {},
   "outputs": [],
   "source": [
    "y_pred_lat, y_pred_lng = regressor_and_predict(df_feat, ground_truth_lat, ground_truth_lng, df_feat_test)"
   ]
  },
  {
   "cell_type": "code",
   "execution_count": 86,
   "metadata": {},
   "outputs": [],
   "source": [
    "test_res = pd.DataFrame(np.array([y_pred_lat, y_pred_lng]).T, columns = ['lat', 'lng'])\n",
    "test_res['messid'] = id_list_test"
   ]
  },
  {
   "cell_type": "code",
   "execution_count": 87,
   "metadata": {},
   "outputs": [],
   "source": [
    "test_res.to_csv('pred_pos_test_list.csv', index=False)"
   ]
  },
  {
   "cell_type": "code",
   "execution_count": 88,
   "metadata": {},
   "outputs": [
    {
     "data": {
      "text/html": [
       "<div>\n",
       "<style scoped>\n",
       "    .dataframe tbody tr th:only-of-type {\n",
       "        vertical-align: middle;\n",
       "    }\n",
       "\n",
       "    .dataframe tbody tr th {\n",
       "        vertical-align: top;\n",
       "    }\n",
       "\n",
       "    .dataframe thead th {\n",
       "        text-align: right;\n",
       "    }\n",
       "</style>\n",
       "<table border=\"1\" class=\"dataframe\">\n",
       "  <thead>\n",
       "    <tr style=\"text-align: right;\">\n",
       "      <th></th>\n",
       "      <th>lat</th>\n",
       "      <th>lng</th>\n",
       "      <th>messid</th>\n",
       "    </tr>\n",
       "  </thead>\n",
       "  <tbody>\n",
       "    <tr>\n",
       "      <th>0</th>\n",
       "      <td>39.772912</td>\n",
       "      <td>-105.049629</td>\n",
       "      <td>573be2503e952e191262c351</td>\n",
       "    </tr>\n",
       "    <tr>\n",
       "      <th>1</th>\n",
       "      <td>39.774800</td>\n",
       "      <td>-105.062448</td>\n",
       "      <td>573c05f83e952e1912758013</td>\n",
       "    </tr>\n",
       "    <tr>\n",
       "      <th>2</th>\n",
       "      <td>39.678750</td>\n",
       "      <td>-105.012794</td>\n",
       "      <td>573c0796f0fe6e735a66deb3</td>\n",
       "    </tr>\n",
       "    <tr>\n",
       "      <th>3</th>\n",
       "      <td>39.773684</td>\n",
       "      <td>-105.037449</td>\n",
       "      <td>573c08d2864fce1a9a0563bc</td>\n",
       "    </tr>\n",
       "    <tr>\n",
       "      <th>4</th>\n",
       "      <td>39.678750</td>\n",
       "      <td>-105.012794</td>\n",
       "      <td>573c08ff864fce1a9a0579b0</td>\n",
       "    </tr>\n",
       "  </tbody>\n",
       "</table>\n",
       "</div>"
      ],
      "text/plain": [
       "         lat         lng                    messid\n",
       "0  39.772912 -105.049629  573be2503e952e191262c351\n",
       "1  39.774800 -105.062448  573c05f83e952e1912758013\n",
       "2  39.678750 -105.012794  573c0796f0fe6e735a66deb3\n",
       "3  39.773684 -105.037449  573c08d2864fce1a9a0563bc\n",
       "4  39.678750 -105.012794  573c08ff864fce1a9a0579b0"
      ]
     },
     "execution_count": 88,
     "metadata": {},
     "output_type": "execute_result"
    }
   ],
   "source": [
    "test_res.head()"
   ]
  },
  {
   "cell_type": "code",
   "execution_count": null,
   "metadata": {},
   "outputs": [],
   "source": []
  }
 ],
 "metadata": {
  "kernelspec": {
   "display_name": "Python 3",
   "language": "python",
   "name": "python3"
  },
  "language_info": {
   "codemirror_mode": {
    "name": "ipython",
    "version": 3
   },
   "file_extension": ".py",
   "mimetype": "text/x-python",
   "name": "python",
   "nbconvert_exporter": "python",
   "pygments_lexer": "ipython3",
   "version": "3.8.5"
  }
 },
 "nbformat": 4,
 "nbformat_minor": 1
}
