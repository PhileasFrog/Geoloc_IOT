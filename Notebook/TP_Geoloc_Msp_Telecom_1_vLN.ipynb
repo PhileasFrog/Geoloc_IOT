{
 "cells": [
  {
   "cell_type": "code",
   "execution_count": 1,
   "metadata": {},
   "outputs": [],
   "source": [
    "%matplotlib inline\n",
    "import numpy as np\n",
    "import pandas as pd\n",
    "import matplotlib.pyplot as plt\n",
    "from vincenty import vincenty # geopy.distance can also be used"
   ]
  },
  {
   "cell_type": "code",
   "execution_count": 2,
   "metadata": {},
   "outputs": [],
   "source": [
    "import ipyleaflet\n",
    "from ipyleaflet import Map, Polyline, LayersControl, basemaps, basemap_to_tiles, FullScreenControl, SearchControl, Marker,Icon, Circle,MarkerCluster"
   ]
  },
  {
   "cell_type": "code",
   "execution_count": 3,
   "metadata": {},
   "outputs": [],
   "source": [
    "def vincenty_vec(vec_coord):\n",
    "    vin_vec_dist = np.zeros(vec_coord.shape[0])\n",
    "    if vec_coord.shape[1] !=  4:\n",
    "        print('ERROR: Bad number of columns (shall be = 4)')\n",
    "    else:\n",
    "        vin_vec_dist = [vincenty(vec_coord[m,0:2],vec_coord[m,2:]) for m in range(vec_coord.shape[0])]\n",
    "    return vin_vec_dist"
   ]
  },
  {
   "cell_type": "code",
   "execution_count": 4,
   "metadata": {},
   "outputs": [],
   "source": [
    "# evaluate distance error for each predicted point\n",
    "def Eval_geoloc(y_train_lat , y_train_lng, y_pred_lat, y_pred_lng):\n",
    "    vec_coord = np.array([y_train_lat , y_train_lng, y_pred_lat, y_pred_lng])\n",
    "    err_vec = vincenty_vec(np.transpose(vec_coord))\n",
    "    \n",
    "    return err_vec"
   ]
  },
  {
   "cell_type": "code",
   "execution_count": 5,
   "metadata": {},
   "outputs": [],
   "source": [
    "#pip install ipyleaflet"
   ]
  },
  {
   "cell_type": "code",
   "execution_count": 6,
   "metadata": {},
   "outputs": [],
   "source": [
    "# load train and test data\n",
    "df_mess_train = pd.read_csv('mess_train_list.csv')\n",
    "df_mess_test = pd.read_csv('mess_test_list.csv')\n",
    "pos_train = pd.read_csv('pos_train_list.csv')"
   ]
  },
  {
   "cell_type": "code",
   "execution_count": null,
   "metadata": {},
   "outputs": [],
   "source": []
  },
  {
   "cell_type": "code",
   "execution_count": 7,
   "metadata": {},
   "outputs": [
    {
     "data": {
      "text/html": [
       "<div>\n",
       "<style scoped>\n",
       "    .dataframe tbody tr th:only-of-type {\n",
       "        vertical-align: middle;\n",
       "    }\n",
       "\n",
       "    .dataframe tbody tr th {\n",
       "        vertical-align: top;\n",
       "    }\n",
       "\n",
       "    .dataframe thead th {\n",
       "        text-align: right;\n",
       "    }\n",
       "</style>\n",
       "<table border=\"1\" class=\"dataframe\">\n",
       "  <thead>\n",
       "    <tr style=\"text-align: right;\">\n",
       "      <th></th>\n",
       "      <th>messid</th>\n",
       "      <th>bsid</th>\n",
       "      <th>did</th>\n",
       "      <th>nseq</th>\n",
       "      <th>rssi</th>\n",
       "      <th>time_ux</th>\n",
       "      <th>bs_lat</th>\n",
       "      <th>bs_lng</th>\n",
       "    </tr>\n",
       "  </thead>\n",
       "  <tbody>\n",
       "    <tr>\n",
       "      <th>0</th>\n",
       "      <td>573bf1d9864fce1a9af8c5c9</td>\n",
       "      <td>2841</td>\n",
       "      <td>473335.0</td>\n",
       "      <td>0.5</td>\n",
       "      <td>-121.5</td>\n",
       "      <td>1.463546e+12</td>\n",
       "      <td>39.617794</td>\n",
       "      <td>-104.954917</td>\n",
       "    </tr>\n",
       "    <tr>\n",
       "      <th>1</th>\n",
       "      <td>573bf1d9864fce1a9af8c5c9</td>\n",
       "      <td>3526</td>\n",
       "      <td>473335.0</td>\n",
       "      <td>2.0</td>\n",
       "      <td>-125.0</td>\n",
       "      <td>1.463546e+12</td>\n",
       "      <td>39.677251</td>\n",
       "      <td>-104.952721</td>\n",
       "    </tr>\n",
       "    <tr>\n",
       "      <th>2</th>\n",
       "      <td>573bf3533e952e19126b256a</td>\n",
       "      <td>2605</td>\n",
       "      <td>473335.0</td>\n",
       "      <td>1.0</td>\n",
       "      <td>-134.0</td>\n",
       "      <td>1.463547e+12</td>\n",
       "      <td>39.612745</td>\n",
       "      <td>-105.008827</td>\n",
       "    </tr>\n",
       "    <tr>\n",
       "      <th>3</th>\n",
       "      <td>573c0cd0f0fe6e735a699b93</td>\n",
       "      <td>2610</td>\n",
       "      <td>473953.0</td>\n",
       "      <td>2.0</td>\n",
       "      <td>-132.0</td>\n",
       "      <td>1.463553e+12</td>\n",
       "      <td>39.797969</td>\n",
       "      <td>-105.073460</td>\n",
       "    </tr>\n",
       "    <tr>\n",
       "      <th>4</th>\n",
       "      <td>573c0cd0f0fe6e735a699b93</td>\n",
       "      <td>3574</td>\n",
       "      <td>473953.0</td>\n",
       "      <td>1.0</td>\n",
       "      <td>-120.0</td>\n",
       "      <td>1.463553e+12</td>\n",
       "      <td>39.723151</td>\n",
       "      <td>-104.956216</td>\n",
       "    </tr>\n",
       "  </tbody>\n",
       "</table>\n",
       "</div>"
      ],
      "text/plain": [
       "                     messid  bsid       did  nseq   rssi       time_ux  \\\n",
       "0  573bf1d9864fce1a9af8c5c9  2841  473335.0   0.5 -121.5  1.463546e+12   \n",
       "1  573bf1d9864fce1a9af8c5c9  3526  473335.0   2.0 -125.0  1.463546e+12   \n",
       "2  573bf3533e952e19126b256a  2605  473335.0   1.0 -134.0  1.463547e+12   \n",
       "3  573c0cd0f0fe6e735a699b93  2610  473953.0   2.0 -132.0  1.463553e+12   \n",
       "4  573c0cd0f0fe6e735a699b93  3574  473953.0   1.0 -120.0  1.463553e+12   \n",
       "\n",
       "      bs_lat      bs_lng  \n",
       "0  39.617794 -104.954917  \n",
       "1  39.677251 -104.952721  \n",
       "2  39.612745 -105.008827  \n",
       "3  39.797969 -105.073460  \n",
       "4  39.723151 -104.956216  "
      ]
     },
     "execution_count": 7,
     "metadata": {},
     "output_type": "execute_result"
    }
   ],
   "source": [
    "df_mess_train.head()"
   ]
  },
  {
   "cell_type": "code",
   "execution_count": 8,
   "metadata": {},
   "outputs": [
    {
     "data": {
      "text/plain": [
       "<AxesSubplot:>"
      ]
     },
     "execution_count": 8,
     "metadata": {},
     "output_type": "execute_result"
    },
    {
     "data": {
      "image/png": "[encoded data removed]",
      "text/plain": [
       "<Figure size 432x288 with 1 Axes>"
      ]
     },
     "metadata": {
      "needs_background": "light"
     },
     "output_type": "display_data"
    }
   ],
   "source": [
    "df_mess_train['messid'].value_counts().plot()"
   ]
  },
  {
   "cell_type": "code",
   "execution_count": 9,
   "metadata": {},
   "outputs": [
    {
     "data": {
      "text/plain": [
       "476185.0    6653\n",
       "476829.0    4104\n",
       "476521.0    3200\n",
       "474192.0    2971\n",
       "476327.0    2214\n",
       "476609.0    1722\n",
       "473796.0    1474\n",
       "473899.0    1234\n",
       "476512.0    1015\n",
       "476889.0     900\n",
       "476515.0     850\n",
       "474176.0     818\n",
       "476315.0     625\n",
       "476835.0     604\n",
       "476852.0     528\n",
       "473507.0     527\n",
       "476285.0     483\n",
       "476212.0     477\n",
       "473335.0     459\n",
       "476325.0     445\n",
       "Name: did, dtype: int64"
      ]
     },
     "execution_count": 9,
     "metadata": {},
     "output_type": "execute_result"
    }
   ],
   "source": [
    "df_mess_train['did'].value_counts().head(20)"
   ]
  },
  {
   "cell_type": "code",
   "execution_count": 10,
   "metadata": {},
   "outputs": [
    {
     "data": {
      "text/plain": [
       "476593.0    14\n",
       "476225.0    14\n",
       "473502.0    14\n",
       "476280.0    13\n",
       "476329.0    13\n",
       "476596.0    13\n",
       "476324.0    12\n",
       "473438.0    11\n",
       "476332.0    11\n",
       "473897.0    10\n",
       "476523.0     7\n",
       "476256.0     6\n",
       "476253.0     6\n",
       "476868.0     5\n",
       "476307.0     5\n",
       "476513.0     2\n",
       "476507.0     2\n",
       "476308.0     1\n",
       "476248.0     1\n",
       "476197.0     1\n",
       "Name: did, dtype: int64"
      ]
     },
     "execution_count": 10,
     "metadata": {},
     "output_type": "execute_result"
    }
   ],
   "source": [
    "df_mess_train['did'].value_counts().tail(20) # supprimer les did avec peu de messages ? <10"
   ]
  },
  {
   "cell_type": "code",
   "execution_count": 11,
   "metadata": {},
   "outputs": [
    {
     "data": {
      "text/plain": [
       "<AxesSubplot:xlabel='did,messid'>"
      ]
     },
     "execution_count": 11,
     "metadata": {},
     "output_type": "execute_result"
    },
    {
     "data": {
      "image/png": "[encoded data removed]",
      "text/plain": [
       "<Figure size 432x288 with 1 Axes>"
      ]
     },
     "metadata": {
      "needs_background": "light"
     },
     "output_type": "display_data"
    }
   ],
   "source": [
    "df_mess_train[['did','messid']].value_counts().plot() # supprimer les did,messid avec peu de messages ? <1 car la précision pouirrait être mauvaise"
   ]
  },
  {
   "cell_type": "code",
   "execution_count": 12,
   "metadata": {},
   "outputs": [
    {
     "data": {
      "text/plain": [
       "<AxesSubplot:>"
      ]
     },
     "execution_count": 12,
     "metadata": {},
     "output_type": "execute_result"
    },
    {
     "data": {
      "image/png": "[encoded data removed]",
      "text/plain": [
       "<Figure size 432x288 with 1 Axes>"
      ]
     },
     "metadata": {
      "needs_background": "light"
     },
     "output_type": "display_data"
    }
   ],
   "source": [
    "# a-t-on une bonne précision lorsqu'on a qu'un message n'est capté que par 1 antenne ?\n",
    "df_mess_train.groupby('messid').count().bsid.hist(bins=100)"
   ]
  },
  {
   "cell_type": "code",
   "execution_count": 13,
   "metadata": {},
   "outputs": [
    {
     "data": {
      "text/plain": [
       "<AxesSubplot:>"
      ]
     },
     "execution_count": 13,
     "metadata": {},
     "output_type": "execute_result"
    },
    {
     "data": {
      "image/png": "[encoded data removed]",
      "text/plain": [
       "<Figure size 432x288 with 1 Axes>"
      ]
     },
     "metadata": {
      "needs_background": "light"
     },
     "output_type": "display_data"
    }
   ],
   "source": [
    "df_mess_train['messid'].value_counts().plot()"
   ]
  },
  {
   "cell_type": "code",
   "execution_count": 14,
   "metadata": {},
   "outputs": [
    {
     "data": {
      "text/html": [
       "<div>\n",
       "<style scoped>\n",
       "    .dataframe tbody tr th:only-of-type {\n",
       "        vertical-align: middle;\n",
       "    }\n",
       "\n",
       "    .dataframe tbody tr th {\n",
       "        vertical-align: top;\n",
       "    }\n",
       "\n",
       "    .dataframe thead th {\n",
       "        text-align: right;\n",
       "    }\n",
       "</style>\n",
       "<table border=\"1\" class=\"dataframe\">\n",
       "  <thead>\n",
       "    <tr style=\"text-align: right;\">\n",
       "      <th></th>\n",
       "      <th>lat</th>\n",
       "      <th>lng</th>\n",
       "    </tr>\n",
       "  </thead>\n",
       "  <tbody>\n",
       "    <tr>\n",
       "      <th>0</th>\n",
       "      <td>39.606690</td>\n",
       "      <td>-104.958490</td>\n",
       "    </tr>\n",
       "    <tr>\n",
       "      <th>1</th>\n",
       "      <td>39.606690</td>\n",
       "      <td>-104.958490</td>\n",
       "    </tr>\n",
       "    <tr>\n",
       "      <th>2</th>\n",
       "      <td>39.637741</td>\n",
       "      <td>-104.958554</td>\n",
       "    </tr>\n",
       "    <tr>\n",
       "      <th>3</th>\n",
       "      <td>39.730417</td>\n",
       "      <td>-104.968940</td>\n",
       "    </tr>\n",
       "    <tr>\n",
       "      <th>4</th>\n",
       "      <td>39.730417</td>\n",
       "      <td>-104.968940</td>\n",
       "    </tr>\n",
       "  </tbody>\n",
       "</table>\n",
       "</div>"
      ],
      "text/plain": [
       "         lat         lng\n",
       "0  39.606690 -104.958490\n",
       "1  39.606690 -104.958490\n",
       "2  39.637741 -104.958554\n",
       "3  39.730417 -104.968940\n",
       "4  39.730417 -104.968940"
      ]
     },
     "execution_count": 14,
     "metadata": {},
     "output_type": "execute_result"
    }
   ],
   "source": [
    "pos_train.head()"
   ]
  },
  {
   "cell_type": "code",
   "execution_count": 18,
   "metadata": {},
   "outputs": [],
   "source": [
    "distances_bs_did_true = Eval_geoloc(pos_train['lat'], pos_train['lng'], df_mess_train['bs_lat'] , df_mess_train['bs_lng'])"
   ]
  },
  {
   "cell_type": "code",
   "execution_count": 19,
   "metadata": {},
   "outputs": [
    {
     "data": {
      "text/html": [
       "<div>\n",
       "<style scoped>\n",
       "    .dataframe tbody tr th:only-of-type {\n",
       "        vertical-align: middle;\n",
       "    }\n",
       "\n",
       "    .dataframe tbody tr th {\n",
       "        vertical-align: top;\n",
       "    }\n",
       "\n",
       "    .dataframe thead th {\n",
       "        text-align: right;\n",
       "    }\n",
       "</style>\n",
       "<table border=\"1\" class=\"dataframe\">\n",
       "  <thead>\n",
       "    <tr style=\"text-align: right;\">\n",
       "      <th></th>\n",
       "      <th>messid</th>\n",
       "      <th>bsid</th>\n",
       "      <th>did</th>\n",
       "      <th>nseq</th>\n",
       "      <th>rssi</th>\n",
       "      <th>time_ux</th>\n",
       "      <th>bs_lat</th>\n",
       "      <th>bs_lng</th>\n",
       "      <th>lat</th>\n",
       "      <th>lng</th>\n",
       "    </tr>\n",
       "  </thead>\n",
       "  <tbody>\n",
       "    <tr>\n",
       "      <th>0</th>\n",
       "      <td>573bf1d9864fce1a9af8c5c9</td>\n",
       "      <td>2841</td>\n",
       "      <td>473335.0</td>\n",
       "      <td>0.5</td>\n",
       "      <td>-121.500000</td>\n",
       "      <td>1.463546e+12</td>\n",
       "      <td>39.617794</td>\n",
       "      <td>-104.954917</td>\n",
       "      <td>39.606690</td>\n",
       "      <td>-104.958490</td>\n",
       "    </tr>\n",
       "    <tr>\n",
       "      <th>1</th>\n",
       "      <td>573bf1d9864fce1a9af8c5c9</td>\n",
       "      <td>3526</td>\n",
       "      <td>473335.0</td>\n",
       "      <td>2.0</td>\n",
       "      <td>-125.000000</td>\n",
       "      <td>1.463546e+12</td>\n",
       "      <td>39.677251</td>\n",
       "      <td>-104.952721</td>\n",
       "      <td>39.606690</td>\n",
       "      <td>-104.958490</td>\n",
       "    </tr>\n",
       "    <tr>\n",
       "      <th>2</th>\n",
       "      <td>573bf3533e952e19126b256a</td>\n",
       "      <td>2605</td>\n",
       "      <td>473335.0</td>\n",
       "      <td>1.0</td>\n",
       "      <td>-134.000000</td>\n",
       "      <td>1.463547e+12</td>\n",
       "      <td>39.612745</td>\n",
       "      <td>-105.008827</td>\n",
       "      <td>39.637741</td>\n",
       "      <td>-104.958554</td>\n",
       "    </tr>\n",
       "    <tr>\n",
       "      <th>3</th>\n",
       "      <td>573c0cd0f0fe6e735a699b93</td>\n",
       "      <td>2610</td>\n",
       "      <td>473953.0</td>\n",
       "      <td>2.0</td>\n",
       "      <td>-132.000000</td>\n",
       "      <td>1.463553e+12</td>\n",
       "      <td>39.797969</td>\n",
       "      <td>-105.073460</td>\n",
       "      <td>39.730417</td>\n",
       "      <td>-104.968940</td>\n",
       "    </tr>\n",
       "    <tr>\n",
       "      <th>4</th>\n",
       "      <td>573c0cd0f0fe6e735a699b93</td>\n",
       "      <td>3574</td>\n",
       "      <td>473953.0</td>\n",
       "      <td>1.0</td>\n",
       "      <td>-120.000000</td>\n",
       "      <td>1.463553e+12</td>\n",
       "      <td>39.723151</td>\n",
       "      <td>-104.956216</td>\n",
       "      <td>39.730417</td>\n",
       "      <td>-104.968940</td>\n",
       "    </tr>\n",
       "    <tr>\n",
       "      <th>...</th>\n",
       "      <td>...</td>\n",
       "      <td>...</td>\n",
       "      <td>...</td>\n",
       "      <td>...</td>\n",
       "      <td>...</td>\n",
       "      <td>...</td>\n",
       "      <td>...</td>\n",
       "      <td>...</td>\n",
       "      <td>...</td>\n",
       "      <td>...</td>\n",
       "    </tr>\n",
       "    <tr>\n",
       "      <th>39245</th>\n",
       "      <td>5848672e12f14360d7942374</td>\n",
       "      <td>3410</td>\n",
       "      <td>476257.0</td>\n",
       "      <td>1.0</td>\n",
       "      <td>-128.000000</td>\n",
       "      <td>1.481140e+12</td>\n",
       "      <td>39.777690</td>\n",
       "      <td>-105.002424</td>\n",
       "      <td>39.773264</td>\n",
       "      <td>-105.014052</td>\n",
       "    </tr>\n",
       "    <tr>\n",
       "      <th>39246</th>\n",
       "      <td>5848672e12f14360d7942374</td>\n",
       "      <td>8352</td>\n",
       "      <td>476257.0</td>\n",
       "      <td>0.0</td>\n",
       "      <td>-121.000000</td>\n",
       "      <td>1.481140e+12</td>\n",
       "      <td>39.761633</td>\n",
       "      <td>-105.025753</td>\n",
       "      <td>39.773264</td>\n",
       "      <td>-105.014052</td>\n",
       "    </tr>\n",
       "    <tr>\n",
       "      <th>39247</th>\n",
       "      <td>5848672e12f14360d7942374</td>\n",
       "      <td>8397</td>\n",
       "      <td>476257.0</td>\n",
       "      <td>2.0</td>\n",
       "      <td>-126.000000</td>\n",
       "      <td>1.481140e+12</td>\n",
       "      <td>39.759396</td>\n",
       "      <td>-105.001415</td>\n",
       "      <td>39.773264</td>\n",
       "      <td>-105.014052</td>\n",
       "    </tr>\n",
       "    <tr>\n",
       "      <th>39248</th>\n",
       "      <td>58487473e541cd0e133cca72</td>\n",
       "      <td>3051</td>\n",
       "      <td>476593.0</td>\n",
       "      <td>1.0</td>\n",
       "      <td>-131.333333</td>\n",
       "      <td>1.481143e+12</td>\n",
       "      <td>39.898872</td>\n",
       "      <td>-105.153832</td>\n",
       "      <td>39.908186</td>\n",
       "      <td>-105.168297</td>\n",
       "    </tr>\n",
       "    <tr>\n",
       "      <th>39249</th>\n",
       "      <td>58487473e541cd0e133cca72</td>\n",
       "      <td>7692</td>\n",
       "      <td>476593.0</td>\n",
       "      <td>1.5</td>\n",
       "      <td>-135.000000</td>\n",
       "      <td>1.481143e+12</td>\n",
       "      <td>39.928436</td>\n",
       "      <td>-105.172719</td>\n",
       "      <td>39.908186</td>\n",
       "      <td>-105.168297</td>\n",
       "    </tr>\n",
       "  </tbody>\n",
       "</table>\n",
       "<p>39250 rows × 10 columns</p>\n",
       "</div>"
      ],
      "text/plain": [
       "                         messid  bsid       did  nseq        rssi  \\\n",
       "0      573bf1d9864fce1a9af8c5c9  2841  473335.0   0.5 -121.500000   \n",
       "1      573bf1d9864fce1a9af8c5c9  3526  473335.0   2.0 -125.000000   \n",
       "2      573bf3533e952e19126b256a  2605  473335.0   1.0 -134.000000   \n",
       "3      573c0cd0f0fe6e735a699b93  2610  473953.0   2.0 -132.000000   \n",
       "4      573c0cd0f0fe6e735a699b93  3574  473953.0   1.0 -120.000000   \n",
       "...                         ...   ...       ...   ...         ...   \n",
       "39245  5848672e12f14360d7942374  3410  476257.0   1.0 -128.000000   \n",
       "39246  5848672e12f14360d7942374  8352  476257.0   0.0 -121.000000   \n",
       "39247  5848672e12f14360d7942374  8397  476257.0   2.0 -126.000000   \n",
       "39248  58487473e541cd0e133cca72  3051  476593.0   1.0 -131.333333   \n",
       "39249  58487473e541cd0e133cca72  7692  476593.0   1.5 -135.000000   \n",
       "\n",
       "            time_ux     bs_lat      bs_lng        lat         lng  \n",
       "0      1.463546e+12  39.617794 -104.954917  39.606690 -104.958490  \n",
       "1      1.463546e+12  39.677251 -104.952721  39.606690 -104.958490  \n",
       "2      1.463547e+12  39.612745 -105.008827  39.637741 -104.958554  \n",
       "3      1.463553e+12  39.797969 -105.073460  39.730417 -104.968940  \n",
       "4      1.463553e+12  39.723151 -104.956216  39.730417 -104.968940  \n",
       "...             ...        ...         ...        ...         ...  \n",
       "39245  1.481140e+12  39.777690 -105.002424  39.773264 -105.014052  \n",
       "39246  1.481140e+12  39.761633 -105.025753  39.773264 -105.014052  \n",
       "39247  1.481140e+12  39.759396 -105.001415  39.773264 -105.014052  \n",
       "39248  1.481143e+12  39.898872 -105.153832  39.908186 -105.168297  \n",
       "39249  1.481143e+12  39.928436 -105.172719  39.908186 -105.168297  \n",
       "\n",
       "[39250 rows x 10 columns]"
      ]
     },
     "execution_count": 19,
     "metadata": {},
     "output_type": "execute_result"
    }
   ],
   "source": [
    "df_mess_pos_train = pd.concat([df_mess_train,pos_train], axis=1)\n",
    "df_mess_pos_train"
   ]
  },
  {
   "cell_type": "code",
   "execution_count": 20,
   "metadata": {},
   "outputs": [],
   "source": [
    "df_mess_pos_train['dist_bs_did_true'] = df_mess_pos_train.apply(\n",
    "    lambda row : vincenty([row['lat'],row['lng']],[row['bs_lat'],row['bs_lng']]),axis=1)"
   ]
  },
  {
   "cell_type": "code",
   "execution_count": 21,
   "metadata": {},
   "outputs": [
    {
     "data": {
      "text/plain": [
       "<AxesSubplot:>"
      ]
     },
     "execution_count": 21,
     "metadata": {},
     "output_type": "execute_result"
    },
    {
     "data": {
      "image/png": "[encoded data removed]",
      "text/plain": [
       "<Figure size 432x288 with 1 Axes>"
      ]
     },
     "metadata": {
      "needs_background": "light"
     },
     "output_type": "display_data"
    }
   ],
   "source": [
    "df_mess_pos_train['dist_bs_did_true'].hist(bins=50)"
   ]
  },
  {
   "cell_type": "code",
   "execution_count": 22,
   "metadata": {},
   "outputs": [
    {
     "data": {
      "text/html": [
       "<div>\n",
       "<style scoped>\n",
       "    .dataframe tbody tr th:only-of-type {\n",
       "        vertical-align: middle;\n",
       "    }\n",
       "\n",
       "    .dataframe tbody tr th {\n",
       "        vertical-align: top;\n",
       "    }\n",
       "\n",
       "    .dataframe thead th {\n",
       "        text-align: right;\n",
       "    }\n",
       "</style>\n",
       "<table border=\"1\" class=\"dataframe\">\n",
       "  <thead>\n",
       "    <tr style=\"text-align: right;\">\n",
       "      <th></th>\n",
       "      <th>messid</th>\n",
       "      <th>bsid</th>\n",
       "      <th>did</th>\n",
       "      <th>nseq</th>\n",
       "      <th>rssi</th>\n",
       "      <th>time_ux</th>\n",
       "      <th>bs_lat</th>\n",
       "      <th>bs_lng</th>\n",
       "      <th>lat</th>\n",
       "      <th>lng</th>\n",
       "      <th>dist_bs_did_true</th>\n",
       "    </tr>\n",
       "  </thead>\n",
       "  <tbody>\n",
       "    <tr>\n",
       "      <th>5106</th>\n",
       "      <td>57617e1ef0fe6e0c9fd6eb06</td>\n",
       "      <td>8355</td>\n",
       "      <td>476606.0</td>\n",
       "      <td>1.5</td>\n",
       "      <td>-106.5</td>\n",
       "      <td>1.466007e+12</td>\n",
       "      <td>64.3</td>\n",
       "      <td>-68.5</td>\n",
       "      <td>39.778694</td>\n",
       "      <td>-104.977050</td>\n",
       "      <td>3606.568595</td>\n",
       "    </tr>\n",
       "    <tr>\n",
       "      <th>5118</th>\n",
       "      <td>576180cf3e952e04b3b41e5c</td>\n",
       "      <td>8355</td>\n",
       "      <td>476512.0</td>\n",
       "      <td>0.5</td>\n",
       "      <td>-111.5</td>\n",
       "      <td>1.466008e+12</td>\n",
       "      <td>64.3</td>\n",
       "      <td>-68.5</td>\n",
       "      <td>39.783396</td>\n",
       "      <td>-104.999821</td>\n",
       "      <td>3607.052582</td>\n",
       "    </tr>\n",
       "    <tr>\n",
       "      <th>5179</th>\n",
       "      <td>5761a161f0fe6e0c9fec42b9</td>\n",
       "      <td>8355</td>\n",
       "      <td>473683.0</td>\n",
       "      <td>0.0</td>\n",
       "      <td>-126.0</td>\n",
       "      <td>1.466016e+12</td>\n",
       "      <td>64.3</td>\n",
       "      <td>-68.5</td>\n",
       "      <td>39.803407</td>\n",
       "      <td>-105.019300</td>\n",
       "      <td>3605.912250</td>\n",
       "    </tr>\n",
       "    <tr>\n",
       "      <th>5216</th>\n",
       "      <td>57623817864fce5689ec33af</td>\n",
       "      <td>8355</td>\n",
       "      <td>473683.0</td>\n",
       "      <td>0.5</td>\n",
       "      <td>-127.0</td>\n",
       "      <td>1.466055e+12</td>\n",
       "      <td>64.3</td>\n",
       "      <td>-68.5</td>\n",
       "      <td>39.803738</td>\n",
       "      <td>-105.018997</td>\n",
       "      <td>3605.867562</td>\n",
       "    </tr>\n",
       "    <tr>\n",
       "      <th>5416</th>\n",
       "      <td>5763734c864fce5689a422f3</td>\n",
       "      <td>8355</td>\n",
       "      <td>476600.0</td>\n",
       "      <td>1.5</td>\n",
       "      <td>-123.0</td>\n",
       "      <td>1.466135e+12</td>\n",
       "      <td>64.3</td>\n",
       "      <td>-68.5</td>\n",
       "      <td>39.803101</td>\n",
       "      <td>-105.023292</td>\n",
       "      <td>3606.107099</td>\n",
       "    </tr>\n",
       "    <tr>\n",
       "      <th>...</th>\n",
       "      <td>...</td>\n",
       "      <td>...</td>\n",
       "      <td>...</td>\n",
       "      <td>...</td>\n",
       "      <td>...</td>\n",
       "      <td>...</td>\n",
       "      <td>...</td>\n",
       "      <td>...</td>\n",
       "      <td>...</td>\n",
       "      <td>...</td>\n",
       "      <td>...</td>\n",
       "    </tr>\n",
       "    <tr>\n",
       "      <th>39237</th>\n",
       "      <td>58485bd412f14360d78bebdb</td>\n",
       "      <td>4987</td>\n",
       "      <td>476207.0</td>\n",
       "      <td>1.5</td>\n",
       "      <td>-130.5</td>\n",
       "      <td>1.481137e+12</td>\n",
       "      <td>64.3</td>\n",
       "      <td>-68.5</td>\n",
       "      <td>39.778872</td>\n",
       "      <td>-105.019285</td>\n",
       "      <td>3608.297231</td>\n",
       "    </tr>\n",
       "    <tr>\n",
       "      <th>39238</th>\n",
       "      <td>58485bd412f14360d78bebdb</td>\n",
       "      <td>4993</td>\n",
       "      <td>476207.0</td>\n",
       "      <td>0.0</td>\n",
       "      <td>-132.0</td>\n",
       "      <td>1.481137e+12</td>\n",
       "      <td>64.3</td>\n",
       "      <td>-68.5</td>\n",
       "      <td>39.778872</td>\n",
       "      <td>-105.019285</td>\n",
       "      <td>3608.297231</td>\n",
       "    </tr>\n",
       "    <tr>\n",
       "      <th>39241</th>\n",
       "      <td>58485bd412f14360d78bebdb</td>\n",
       "      <td>10151</td>\n",
       "      <td>476207.0</td>\n",
       "      <td>1.0</td>\n",
       "      <td>-122.0</td>\n",
       "      <td>1.481137e+12</td>\n",
       "      <td>64.3</td>\n",
       "      <td>-68.5</td>\n",
       "      <td>39.778872</td>\n",
       "      <td>-105.019285</td>\n",
       "      <td>3608.297231</td>\n",
       "    </tr>\n",
       "    <tr>\n",
       "      <th>39242</th>\n",
       "      <td>58485bd412f14360d78bebdb</td>\n",
       "      <td>11007</td>\n",
       "      <td>476207.0</td>\n",
       "      <td>1.0</td>\n",
       "      <td>-121.0</td>\n",
       "      <td>1.481137e+12</td>\n",
       "      <td>64.3</td>\n",
       "      <td>-68.5</td>\n",
       "      <td>39.778872</td>\n",
       "      <td>-105.019285</td>\n",
       "      <td>3608.297231</td>\n",
       "    </tr>\n",
       "    <tr>\n",
       "      <th>39244</th>\n",
       "      <td>5848672e12f14360d7942374</td>\n",
       "      <td>2943</td>\n",
       "      <td>476257.0</td>\n",
       "      <td>1.5</td>\n",
       "      <td>-115.0</td>\n",
       "      <td>1.481140e+12</td>\n",
       "      <td>64.3</td>\n",
       "      <td>-68.5</td>\n",
       "      <td>39.773264</td>\n",
       "      <td>-105.014052</td>\n",
       "      <td>3608.626182</td>\n",
       "    </tr>\n",
       "  </tbody>\n",
       "</table>\n",
       "<p>4389 rows × 11 columns</p>\n",
       "</div>"
      ],
      "text/plain": [
       "                         messid   bsid       did  nseq   rssi       time_ux  \\\n",
       "5106   57617e1ef0fe6e0c9fd6eb06   8355  476606.0   1.5 -106.5  1.466007e+12   \n",
       "5118   576180cf3e952e04b3b41e5c   8355  476512.0   0.5 -111.5  1.466008e+12   \n",
       "5179   5761a161f0fe6e0c9fec42b9   8355  473683.0   0.0 -126.0  1.466016e+12   \n",
       "5216   57623817864fce5689ec33af   8355  473683.0   0.5 -127.0  1.466055e+12   \n",
       "5416   5763734c864fce5689a422f3   8355  476600.0   1.5 -123.0  1.466135e+12   \n",
       "...                         ...    ...       ...   ...    ...           ...   \n",
       "39237  58485bd412f14360d78bebdb   4987  476207.0   1.5 -130.5  1.481137e+12   \n",
       "39238  58485bd412f14360d78bebdb   4993  476207.0   0.0 -132.0  1.481137e+12   \n",
       "39241  58485bd412f14360d78bebdb  10151  476207.0   1.0 -122.0  1.481137e+12   \n",
       "39242  58485bd412f14360d78bebdb  11007  476207.0   1.0 -121.0  1.481137e+12   \n",
       "39244  5848672e12f14360d7942374   2943  476257.0   1.5 -115.0  1.481140e+12   \n",
       "\n",
       "       bs_lat  bs_lng        lat         lng  dist_bs_did_true  \n",
       "5106     64.3   -68.5  39.778694 -104.977050       3606.568595  \n",
       "5118     64.3   -68.5  39.783396 -104.999821       3607.052582  \n",
       "5179     64.3   -68.5  39.803407 -105.019300       3605.912250  \n",
       "5216     64.3   -68.5  39.803738 -105.018997       3605.867562  \n",
       "5416     64.3   -68.5  39.803101 -105.023292       3606.107099  \n",
       "...       ...     ...        ...         ...               ...  \n",
       "39237    64.3   -68.5  39.778872 -105.019285       3608.297231  \n",
       "39238    64.3   -68.5  39.778872 -105.019285       3608.297231  \n",
       "39241    64.3   -68.5  39.778872 -105.019285       3608.297231  \n",
       "39242    64.3   -68.5  39.778872 -105.019285       3608.297231  \n",
       "39244    64.3   -68.5  39.773264 -105.014052       3608.626182  \n",
       "\n",
       "[4389 rows x 11 columns]"
      ]
     },
     "execution_count": 22,
     "metadata": {},
     "output_type": "execute_result"
    }
   ],
   "source": [
    "df_mess_pos_train[df_mess_pos_train['dist_bs_did_true'] > 3000]"
   ]
  },
  {
   "cell_type": "code",
   "execution_count": 23,
   "metadata": {},
   "outputs": [],
   "source": [
    "df_mess_pos_train2 = df_mess_pos_train[df_mess_pos_train['dist_bs_did_true'] < 3000]"
   ]
  },
  {
   "cell_type": "code",
   "execution_count": 24,
   "metadata": {},
   "outputs": [
    {
     "data": {
      "text/plain": [
       "<AxesSubplot:>"
      ]
     },
     "execution_count": 24,
     "metadata": {},
     "output_type": "execute_result"
    },
    {
     "data": {
      "image/png": "[encoded data removed]",
      "text/plain": [
       "<Figure size 432x288 with 1 Axes>"
      ]
     },
     "metadata": {
      "needs_background": "light"
     },
     "output_type": "display_data"
    }
   ],
   "source": [
    "df_mess_pos_train2['dist_bs_did_true'].hist()"
   ]
  },
  {
   "cell_type": "code",
   "execution_count": 25,
   "metadata": {},
   "outputs": [],
   "source": [
    "df_mess_pos_train2 = df_mess_pos_train2[df_mess_pos_train2['dist_bs_did_true'] < 100]#['bsid'].value_counts()"
   ]
  },
  {
   "cell_type": "code",
   "execution_count": 26,
   "metadata": {
    "scrolled": true
   },
   "outputs": [
    {
     "data": {
      "text/plain": [
       "<AxesSubplot:>"
      ]
     },
     "execution_count": 26,
     "metadata": {},
     "output_type": "execute_result"
    },
    {
     "data": {
      "image/png": "[encoded data removed]",
      "text/plain": [
       "<Figure size 432x288 with 1 Axes>"
      ]
     },
     "metadata": {
      "needs_background": "light"
     },
     "output_type": "display_data"
    }
   ],
   "source": [
    "df_mess_pos_train2['rssi'].hist(bins=100)"
   ]
  },
  {
   "cell_type": "code",
   "execution_count": 27,
   "metadata": {
    "scrolled": true
   },
   "outputs": [
    {
     "data": {
      "text/plain": [
       "<AxesSubplot:>"
      ]
     },
     "execution_count": 27,
     "metadata": {},
     "output_type": "execute_result"
    },
    {
     "data": {
      "image/png": "[encoded data removed]",
      "text/plain": [
       "<Figure size 432x288 with 1 Axes>"
      ]
     },
     "metadata": {
      "needs_background": "light"
     },
     "output_type": "display_data"
    }
   ],
   "source": [
    "df_mess_pos_train2['lat'].hist(bins=100)"
   ]
  },
  {
   "cell_type": "code",
   "execution_count": 28,
   "metadata": {
    "scrolled": true
   },
   "outputs": [
    {
     "data": {
      "text/plain": [
       "<AxesSubplot:>"
      ]
     },
     "execution_count": 28,
     "metadata": {},
     "output_type": "execute_result"
    },
    {
     "data": {
      "image/png": "[encoded data removed]",
      "text/plain": [
       "<Figure size 432x288 with 1 Axes>"
      ]
     },
     "metadata": {
      "needs_background": "light"
     },
     "output_type": "display_data"
    }
   ],
   "source": [
    "df_mess_pos_train2['lng'].hist(bins=100)"
   ]
  },
  {
   "cell_type": "code",
   "execution_count": 29,
   "metadata": {
    "scrolled": true
   },
   "outputs": [
    {
     "data": {
      "text/plain": [
       "<Figure size 1440x720 with 0 Axes>"
      ]
     },
     "metadata": {},
     "output_type": "display_data"
    },
    {
     "data": {
      "image/png": "[encoded data removed]",
      "text/plain": [
       "<Figure size 540x540 with 12 Axes>"
      ]
     },
     "metadata": {
      "needs_background": "light"
     },
     "output_type": "display_data"
    }
   ],
   "source": [
    "import seaborn as sns\n",
    "plt.figure(figsize=(20,10))\n",
    "sns.pairplot(df_mess_pos_train2[['lat','lng','rssi']]);"
   ]
  },
  {
   "cell_type": "code",
   "execution_count": 30,
   "metadata": {
    "scrolled": true
   },
   "outputs": [
    {
     "data": {
      "text/plain": [
       "<AxesSubplot:>"
      ]
     },
     "execution_count": 30,
     "metadata": {},
     "output_type": "execute_result"
    },
    {
     "data": {
      "image/png": "[encoded data removed]",
      "text/plain": [
       "<Figure size 432x288 with 1 Axes>"
      ]
     },
     "metadata": {
      "needs_background": "light"
     },
     "output_type": "display_data"
    }
   ],
   "source": [
    "#nombre de balises par messages\n",
    "df_mess_pos_train2['messid'].value_counts().hist(bins=20)"
   ]
  },
  {
   "cell_type": "code",
   "execution_count": 31,
   "metadata": {},
   "outputs": [
    {
     "ename": "AttributeError",
     "evalue": "'list' object has no attribute 'hist'",
     "output_type": "error",
     "traceback": [
      "\u001b[0;31m---------------------------------------------------------------------------\u001b[0m",
      "\u001b[0;31mAttributeError\u001b[0m                            Traceback (most recent call last)",
      "\u001b[0;32m<ipython-input-31-bbd53850ff8d>\u001b[0m in \u001b[0;36m<module>\u001b[0;34m\u001b[0m\n\u001b[0;32m----> 1\u001b[0;31m \u001b[0mdistances_bs_did_true\u001b[0m\u001b[0;34m.\u001b[0m\u001b[0mhist\u001b[0m\u001b[0;34m(\u001b[0m\u001b[0;34m)\u001b[0m\u001b[0;34m\u001b[0m\u001b[0;34m\u001b[0m\u001b[0m\n\u001b[0m",
      "\u001b[0;31mAttributeError\u001b[0m: 'list' object has no attribute 'hist'"
     ]
    }
   ],
   "source": [
    "distances_bs_did_true.hist()"
   ]
  },
  {
   "cell_type": "code",
   "execution_count": 33,
   "metadata": {},
   "outputs": [
    {
     "data": {
      "text/html": [
       "<div>\n",
       "<style scoped>\n",
       "    .dataframe tbody tr th:only-of-type {\n",
       "        vertical-align: middle;\n",
       "    }\n",
       "\n",
       "    .dataframe tbody tr th {\n",
       "        vertical-align: top;\n",
       "    }\n",
       "\n",
       "    .dataframe thead th {\n",
       "        text-align: right;\n",
       "    }\n",
       "</style>\n",
       "<table border=\"1\" class=\"dataframe\">\n",
       "  <thead>\n",
       "    <tr style=\"text-align: right;\">\n",
       "      <th></th>\n",
       "      <th>bsid</th>\n",
       "      <th>bs_lat</th>\n",
       "      <th>bs_lng</th>\n",
       "    </tr>\n",
       "  </thead>\n",
       "  <tbody>\n",
       "    <tr>\n",
       "      <th>0</th>\n",
       "      <td>2841</td>\n",
       "      <td>39.617794</td>\n",
       "      <td>-104.954917</td>\n",
       "    </tr>\n",
       "    <tr>\n",
       "      <th>1</th>\n",
       "      <td>3526</td>\n",
       "      <td>39.677251</td>\n",
       "      <td>-104.952721</td>\n",
       "    </tr>\n",
       "    <tr>\n",
       "      <th>2</th>\n",
       "      <td>2605</td>\n",
       "      <td>39.612745</td>\n",
       "      <td>-105.008827</td>\n",
       "    </tr>\n",
       "    <tr>\n",
       "      <th>3</th>\n",
       "      <td>2610</td>\n",
       "      <td>39.797969</td>\n",
       "      <td>-105.073460</td>\n",
       "    </tr>\n",
       "    <tr>\n",
       "      <th>4</th>\n",
       "      <td>3574</td>\n",
       "      <td>39.723151</td>\n",
       "      <td>-104.956216</td>\n",
       "    </tr>\n",
       "    <tr>\n",
       "      <th>...</th>\n",
       "      <td>...</td>\n",
       "      <td>...</td>\n",
       "      <td>...</td>\n",
       "    </tr>\n",
       "    <tr>\n",
       "      <th>33397</th>\n",
       "      <td>7655</td>\n",
       "      <td>41.117167</td>\n",
       "      <td>-106.247588</td>\n",
       "    </tr>\n",
       "    <tr>\n",
       "      <th>33399</th>\n",
       "      <td>1852</td>\n",
       "      <td>41.564439</td>\n",
       "      <td>-106.165570</td>\n",
       "    </tr>\n",
       "    <tr>\n",
       "      <th>33400</th>\n",
       "      <td>7972</td>\n",
       "      <td>41.396888</td>\n",
       "      <td>-106.131664</td>\n",
       "    </tr>\n",
       "    <tr>\n",
       "      <th>35119</th>\n",
       "      <td>4813</td>\n",
       "      <td>39.417820</td>\n",
       "      <td>-104.968154</td>\n",
       "    </tr>\n",
       "    <tr>\n",
       "      <th>37074</th>\n",
       "      <td>3385</td>\n",
       "      <td>39.893410</td>\n",
       "      <td>-104.841287</td>\n",
       "    </tr>\n",
       "  </tbody>\n",
       "</table>\n",
       "<p>209 rows × 3 columns</p>\n",
       "</div>"
      ],
      "text/plain": [
       "       bsid     bs_lat      bs_lng\n",
       "0      2841  39.617794 -104.954917\n",
       "1      3526  39.677251 -104.952721\n",
       "2      2605  39.612745 -105.008827\n",
       "3      2610  39.797969 -105.073460\n",
       "4      3574  39.723151 -104.956216\n",
       "...     ...        ...         ...\n",
       "33397  7655  41.117167 -106.247588\n",
       "33399  1852  41.564439 -106.165570\n",
       "33400  7972  41.396888 -106.131664\n",
       "35119  4813  39.417820 -104.968154\n",
       "37074  3385  39.893410 -104.841287\n",
       "\n",
       "[209 rows x 3 columns]"
      ]
     },
     "execution_count": 33,
     "metadata": {},
     "output_type": "execute_result"
    }
   ],
   "source": [
    "df_bs_pos = df_mess_pos_train2[['bsid','bs_lat','bs_lng']].drop_duplicates()\n",
    "df_bs_pos"
   ]
  },
  {
   "cell_type": "code",
   "execution_count": 34,
   "metadata": {},
   "outputs": [
    {
     "data": {
      "application/vnd.jupyter.widget-view+json": {
       "model_id": "02de24e4fb104609b06ab2a6b4036462",
       "version_major": 2,
       "version_minor": 0
      },
      "text/plain": [
       "Map(center=[0.0, 0.0], controls=(ZoomControl(options=['position', 'zoom_in_text', 'zoom_in_title', 'zoom_out_t…"
      ]
     },
     "metadata": {},
     "output_type": "display_data"
    }
   ],
   "source": [
    "# Position des bs\n",
    "m = Map(basemap=basemaps.OpenStreetMap.Mapnik, zoom=3)\n",
    "markerList = [Marker(name=str(bsid), location=[lat, lng], draggable=False) for bsid, lat, lng in df_bs_pos.values]\n",
    "\n",
    "marker_cluster = MarkerCluster(\n",
    "    markers=markerList\n",
    ")\n",
    "m.add_layer(marker_cluster)\n",
    "m"
   ]
  },
  {
   "cell_type": "code",
   "execution_count": 35,
   "metadata": {},
   "outputs": [
    {
     "data": {
      "application/vnd.jupyter.widget-view+json": {
       "model_id": "476d6e51452e48a9804a43cdfd8181ba",
       "version_major": 2,
       "version_minor": 0
      },
      "text/plain": [
       "Map(center=[0.0, 0.0], controls=(ZoomControl(options=['position', 'zoom_in_text', 'zoom_in_title', 'zoom_out_t…"
      ]
     },
     "metadata": {},
     "output_type": "display_data"
    }
   ],
   "source": [
    "# Position des devices\n",
    "m = Map(basemap=basemaps.OpenStreetMap.Mapnik, zoom=3)\n",
    "markerList = [Marker(location=position, draggable=False) for position in pos_train.values.tolist()]\n",
    "\n",
    "marker_cluster = MarkerCluster(\n",
    "    markers=markerList\n",
    ")\n",
    "m.add_layer(marker_cluster)\n",
    "m"
   ]
  },
  {
   "cell_type": "code",
   "execution_count": 36,
   "metadata": {},
   "outputs": [],
   "source": [
    "listOfBs = np.union1d(np.unique(df_mess_train['bsid']), np.unique(df_mess_test['bsid'])) # determine all Base stations that received at least 1 message"
   ]
  },
  {
   "cell_type": "code",
   "execution_count": 37,
   "metadata": {},
   "outputs": [
    {
     "data": {
      "text/plain": [
       "259"
      ]
     },
     "execution_count": 37,
     "metadata": {},
     "output_type": "execute_result"
    }
   ],
   "source": [
    "len(listOfBs)"
   ]
  },
  {
   "cell_type": "code",
   "execution_count": null,
   "metadata": {},
   "outputs": [],
   "source": []
  },
  {
   "cell_type": "code",
   "execution_count": 38,
   "metadata": {},
   "outputs": [],
   "source": [
    "# Feature Matrix construction \n",
    "\n",
    "def feat_mat_const(df_mess_train, listOfBs):\n",
    "\n",
    "    df_mess_bs_group = df_mess_train.groupby(['messid'], as_index=False) # group data by message (messid)\n",
    "    nb_mess = len(np.unique(df_mess_train['messid']))\n",
    "    df_feat = pd.DataFrame(np.zeros((nb_mess,len(listOfBs))), columns = listOfBs) # feature matrix\n",
    "    idx = 0\n",
    "    id_list = [0] * nb_mess\n",
    "\n",
    "    for key, elmt in df_mess_bs_group:\n",
    "        df_mess_bs_group.get_group(key)\n",
    "        df_feat.loc[idx,df_mess_bs_group.get_group(key)['bsid']] = 1\n",
    "        id_list[idx] = key\n",
    "        idx = idx + 1\n",
    "    \n",
    "    return df_feat, id_list # add id value of each message for the correspondance to message  "
   ]
  },
  {
   "cell_type": "code",
   "execution_count": null,
   "metadata": {},
   "outputs": [],
   "source": []
  },
  {
   "cell_type": "code",
   "execution_count": 39,
   "metadata": {},
   "outputs": [],
   "source": [
    "# ground truth construction\n",
    "\n",
    "def ground_truth_const(df_mess_train, pos_train):\n",
    "\n",
    "    df_mess_pos = df_mess_train.copy()\n",
    "    df_mess_pos[['lat', 'lng']] = pos_train\n",
    "\n",
    "    ground_truth_lat = np.array(df_mess_pos.groupby(['messid']).mean()['lat'])\n",
    "    ground_truth_lng = np.array(df_mess_pos.groupby(['messid']).mean()['lng'])\n",
    "    \n",
    "    return ground_truth_lat, ground_truth_lng"
   ]
  },
  {
   "cell_type": "code",
   "execution_count": 40,
   "metadata": {},
   "outputs": [
    {
     "data": {
      "text/html": [
       "<div>\n",
       "<style scoped>\n",
       "    .dataframe tbody tr th:only-of-type {\n",
       "        vertical-align: middle;\n",
       "    }\n",
       "\n",
       "    .dataframe tbody tr th {\n",
       "        vertical-align: top;\n",
       "    }\n",
       "\n",
       "    .dataframe thead th {\n",
       "        text-align: right;\n",
       "    }\n",
       "</style>\n",
       "<table border=\"1\" class=\"dataframe\">\n",
       "  <thead>\n",
       "    <tr style=\"text-align: right;\">\n",
       "      <th></th>\n",
       "      <th>879</th>\n",
       "      <th>911</th>\n",
       "      <th>921</th>\n",
       "      <th>944</th>\n",
       "      <th>980</th>\n",
       "      <th>1012</th>\n",
       "      <th>1086</th>\n",
       "      <th>1092</th>\n",
       "      <th>1120</th>\n",
       "      <th>1131</th>\n",
       "      <th>...</th>\n",
       "      <th>9936</th>\n",
       "      <th>9941</th>\n",
       "      <th>9949</th>\n",
       "      <th>10134</th>\n",
       "      <th>10148</th>\n",
       "      <th>10151</th>\n",
       "      <th>10162</th>\n",
       "      <th>10999</th>\n",
       "      <th>11007</th>\n",
       "      <th>11951</th>\n",
       "    </tr>\n",
       "  </thead>\n",
       "  <tbody>\n",
       "    <tr>\n",
       "      <th>0</th>\n",
       "      <td>0.0</td>\n",
       "      <td>0.0</td>\n",
       "      <td>0.0</td>\n",
       "      <td>0.0</td>\n",
       "      <td>0.0</td>\n",
       "      <td>0.0</td>\n",
       "      <td>0.0</td>\n",
       "      <td>0.0</td>\n",
       "      <td>0.0</td>\n",
       "      <td>0.0</td>\n",
       "      <td>...</td>\n",
       "      <td>0.0</td>\n",
       "      <td>0.0</td>\n",
       "      <td>0.0</td>\n",
       "      <td>0.0</td>\n",
       "      <td>0.0</td>\n",
       "      <td>0.0</td>\n",
       "      <td>0.0</td>\n",
       "      <td>0.0</td>\n",
       "      <td>0.0</td>\n",
       "      <td>0.0</td>\n",
       "    </tr>\n",
       "    <tr>\n",
       "      <th>1</th>\n",
       "      <td>0.0</td>\n",
       "      <td>0.0</td>\n",
       "      <td>0.0</td>\n",
       "      <td>0.0</td>\n",
       "      <td>0.0</td>\n",
       "      <td>0.0</td>\n",
       "      <td>0.0</td>\n",
       "      <td>0.0</td>\n",
       "      <td>0.0</td>\n",
       "      <td>0.0</td>\n",
       "      <td>...</td>\n",
       "      <td>0.0</td>\n",
       "      <td>0.0</td>\n",
       "      <td>0.0</td>\n",
       "      <td>0.0</td>\n",
       "      <td>0.0</td>\n",
       "      <td>0.0</td>\n",
       "      <td>0.0</td>\n",
       "      <td>0.0</td>\n",
       "      <td>0.0</td>\n",
       "      <td>0.0</td>\n",
       "    </tr>\n",
       "    <tr>\n",
       "      <th>2</th>\n",
       "      <td>0.0</td>\n",
       "      <td>0.0</td>\n",
       "      <td>0.0</td>\n",
       "      <td>0.0</td>\n",
       "      <td>0.0</td>\n",
       "      <td>0.0</td>\n",
       "      <td>0.0</td>\n",
       "      <td>0.0</td>\n",
       "      <td>0.0</td>\n",
       "      <td>0.0</td>\n",
       "      <td>...</td>\n",
       "      <td>0.0</td>\n",
       "      <td>0.0</td>\n",
       "      <td>0.0</td>\n",
       "      <td>0.0</td>\n",
       "      <td>0.0</td>\n",
       "      <td>0.0</td>\n",
       "      <td>0.0</td>\n",
       "      <td>0.0</td>\n",
       "      <td>0.0</td>\n",
       "      <td>0.0</td>\n",
       "    </tr>\n",
       "    <tr>\n",
       "      <th>3</th>\n",
       "      <td>0.0</td>\n",
       "      <td>0.0</td>\n",
       "      <td>0.0</td>\n",
       "      <td>0.0</td>\n",
       "      <td>0.0</td>\n",
       "      <td>0.0</td>\n",
       "      <td>0.0</td>\n",
       "      <td>0.0</td>\n",
       "      <td>0.0</td>\n",
       "      <td>0.0</td>\n",
       "      <td>...</td>\n",
       "      <td>0.0</td>\n",
       "      <td>0.0</td>\n",
       "      <td>0.0</td>\n",
       "      <td>0.0</td>\n",
       "      <td>0.0</td>\n",
       "      <td>0.0</td>\n",
       "      <td>0.0</td>\n",
       "      <td>0.0</td>\n",
       "      <td>0.0</td>\n",
       "      <td>0.0</td>\n",
       "    </tr>\n",
       "    <tr>\n",
       "      <th>4</th>\n",
       "      <td>0.0</td>\n",
       "      <td>0.0</td>\n",
       "      <td>0.0</td>\n",
       "      <td>0.0</td>\n",
       "      <td>0.0</td>\n",
       "      <td>0.0</td>\n",
       "      <td>1.0</td>\n",
       "      <td>0.0</td>\n",
       "      <td>0.0</td>\n",
       "      <td>0.0</td>\n",
       "      <td>...</td>\n",
       "      <td>0.0</td>\n",
       "      <td>0.0</td>\n",
       "      <td>0.0</td>\n",
       "      <td>0.0</td>\n",
       "      <td>0.0</td>\n",
       "      <td>0.0</td>\n",
       "      <td>0.0</td>\n",
       "      <td>0.0</td>\n",
       "      <td>0.0</td>\n",
       "      <td>0.0</td>\n",
       "    </tr>\n",
       "  </tbody>\n",
       "</table>\n",
       "<p>5 rows × 259 columns</p>\n",
       "</div>"
      ],
      "text/plain": [
       "   879    911    921    944    980    1012   1086   1092   1120   1131   ...  \\\n",
       "0    0.0    0.0    0.0    0.0    0.0    0.0    0.0    0.0    0.0    0.0  ...   \n",
       "1    0.0    0.0    0.0    0.0    0.0    0.0    0.0    0.0    0.0    0.0  ...   \n",
       "2    0.0    0.0    0.0    0.0    0.0    0.0    0.0    0.0    0.0    0.0  ...   \n",
       "3    0.0    0.0    0.0    0.0    0.0    0.0    0.0    0.0    0.0    0.0  ...   \n",
       "4    0.0    0.0    0.0    0.0    0.0    0.0    1.0    0.0    0.0    0.0  ...   \n",
       "\n",
       "   9936   9941   9949   10134  10148  10151  10162  10999  11007  11951  \n",
       "0    0.0    0.0    0.0    0.0    0.0    0.0    0.0    0.0    0.0    0.0  \n",
       "1    0.0    0.0    0.0    0.0    0.0    0.0    0.0    0.0    0.0    0.0  \n",
       "2    0.0    0.0    0.0    0.0    0.0    0.0    0.0    0.0    0.0    0.0  \n",
       "3    0.0    0.0    0.0    0.0    0.0    0.0    0.0    0.0    0.0    0.0  \n",
       "4    0.0    0.0    0.0    0.0    0.0    0.0    0.0    0.0    0.0    0.0  \n",
       "\n",
       "[5 rows x 259 columns]"
      ]
     },
     "execution_count": 40,
     "metadata": {},
     "output_type": "execute_result"
    }
   ],
   "source": [
    "df_feat, id_list_train = feat_mat_const(df_mess_train, listOfBs)\n",
    "df_feat.head()"
   ]
  },
  {
   "cell_type": "code",
   "execution_count": 41,
   "metadata": {},
   "outputs": [
    {
     "data": {
      "text/plain": [
       "(6068,)"
      ]
     },
     "execution_count": 41,
     "metadata": {},
     "output_type": "execute_result"
    }
   ],
   "source": [
    "ground_truth_lat, ground_truth_lng = ground_truth_const(df_mess_train, pos_train)\n",
    "ground_truth_lat.shape"
   ]
  },
  {
   "cell_type": "code",
   "execution_count": null,
   "metadata": {},
   "outputs": [],
   "source": []
  },
  {
   "cell_type": "code",
   "execution_count": 42,
   "metadata": {},
   "outputs": [],
   "source": [
    "# Validation"
   ]
  },
  {
   "cell_type": "code",
   "execution_count": 44,
   "metadata": {},
   "outputs": [],
   "source": [
    "def regressor_and_predict(df_feat, ground_truth_lat, ground_truth_lng, df_test):\n",
    "    \n",
    "    # train regressor and make prediction in the train set\n",
    "    # Input: df_feat: feature matrix used to train regressor\n",
    "    #        ground_truth_lat: df_feat associated latitude\n",
    "    #        ground_truth_lng: df_feat associated longitude\n",
    "    #        df_test: data frame used for prediction\n",
    "    # Output: y_pred_lat, y_pred_lng\n",
    "\n",
    "    from sklearn import linear_model\n",
    "\n",
    "    X_train = np.array(df_feat);\n",
    "    reg = linear_model.LinearRegression()\n",
    "\n",
    "    reg.fit(X_train, ground_truth_lat);\n",
    "    y_pred_lat = reg.predict(df_test) \n",
    "\n",
    "    reg.fit(X_train, ground_truth_lng);\n",
    "    y_pred_lng = reg.predict(df_test) \n",
    "    \n",
    "    return y_pred_lat, y_pred_lng\n"
   ]
  },
  {
   "cell_type": "code",
   "execution_count": null,
   "metadata": {},
   "outputs": [],
   "source": []
  },
  {
   "cell_type": "code",
   "execution_count": 45,
   "metadata": {},
   "outputs": [],
   "source": [
    "# Make regressor and prediction using the train set"
   ]
  },
  {
   "cell_type": "code",
   "execution_count": 46,
   "metadata": {},
   "outputs": [],
   "source": [
    "y_pred_lat, y_pred_lng = regressor_and_predict(df_feat, ground_truth_lat, ground_truth_lng, df_feat)"
   ]
  },
  {
   "cell_type": "code",
   "execution_count": null,
   "metadata": {},
   "outputs": [],
   "source": []
  },
  {
   "cell_type": "code",
   "execution_count": 47,
   "metadata": {},
   "outputs": [],
   "source": [
    "# Cross validation"
   ]
  },
  {
   "cell_type": "code",
   "execution_count": 48,
   "metadata": {},
   "outputs": [],
   "source": [
    "from sklearn.model_selection import cross_val_predict"
   ]
  },
  {
   "cell_type": "code",
   "execution_count": 49,
   "metadata": {},
   "outputs": [],
   "source": [
    "from sklearn import linear_model\n",
    "reg = linear_model.LinearRegression()\n",
    "y_pred_lng = cross_val_predict(reg, df_feat, ground_truth_lng, cv=10)\n",
    "y_pred_lat = cross_val_predict(reg, df_feat, ground_truth_lat, cv=10)"
   ]
  },
  {
   "cell_type": "code",
   "execution_count": 54,
   "metadata": {},
   "outputs": [],
   "source": [
    "# from sklearn import linear_model\n",
    "# reg_lng = linear_model.LinearRegression()\n",
    "# reg_lat = linear_model.LinearRegression()\n",
    "# y_pred_lng = cross_val_predict(reg_lng, df_feat, ground_truth_lng, cv=10)\n",
    "# y_pred_lat = cross_val_predict(reg_lat, df_feat, ground_truth_lat, cv=10)"
   ]
  },
  {
   "cell_type": "code",
   "execution_count": null,
   "metadata": {},
   "outputs": [],
   "source": []
  },
  {
   "cell_type": "code",
   "execution_count": 55,
   "metadata": {},
   "outputs": [],
   "source": [
    "# Evaluate result"
   ]
  },
  {
   "cell_type": "code",
   "execution_count": 56,
   "metadata": {},
   "outputs": [],
   "source": [
    "err_vec = Eval_geoloc(ground_truth_lat , ground_truth_lng, y_pred_lat, y_pred_lng)"
   ]
  },
  {
   "cell_type": "code",
   "execution_count": 57,
   "metadata": {},
   "outputs": [],
   "source": [
    "# Plot error distribution"
   ]
  },
  {
   "cell_type": "code",
   "execution_count": 58,
   "metadata": {},
   "outputs": [
    {
     "data": {
      "text/plain": [
       "<matplotlib.legend.Legend at 0x7f1eb50dfc10>"
      ]
     },
     "execution_count": 58,
     "metadata": {},
     "output_type": "execute_result"
    },
    {
     "data": {
      "image/png": "[encoded data removed]",
      "text/plain": [
       "<Figure size 432x288 with 1 Axes>"
      ]
     },
     "metadata": {
      "needs_background": "light"
     },
     "output_type": "display_data"
    }
   ],
   "source": [
    "values, base = np.histogram(err_vec, bins=50000)\n",
    "cumulative = np.cumsum(values) \n",
    "plt.figure();\n",
    "plt.plot(base[:-1], cumulative / np.float(np.sum(values))  * 100.0, c='blue')\n",
    "plt.grid(); plt.xlabel('Distance Error (km)'); plt.ylabel('Cum proba (%)'); plt.axis([0, 30, 0, 100]); \n",
    "plt.title('Error Cumulative Probability'); plt.legend( [\"Opt LLR\", \"LLR 95\", \"LLR 99\"])"
   ]
  },
  {
   "cell_type": "code",
   "execution_count": 59,
   "metadata": {},
   "outputs": [
    {
     "data": {
      "text/plain": [
       "8.2245602"
      ]
     },
     "execution_count": 59,
     "metadata": {},
     "output_type": "execute_result"
    }
   ],
   "source": [
    "# Error criterion\n",
    "\n",
    "np.percentile(err_vec, 80)"
   ]
  },
  {
   "cell_type": "code",
   "execution_count": null,
   "metadata": {},
   "outputs": [],
   "source": []
  },
  {
   "cell_type": "code",
   "execution_count": 44,
   "metadata": {},
   "outputs": [],
   "source": [
    "# Construct test prediction"
   ]
  },
  {
   "cell_type": "code",
   "execution_count": 45,
   "metadata": {},
   "outputs": [
    {
     "data": {
      "text/html": [
       "<div>\n",
       "<style scoped>\n",
       "    .dataframe tbody tr th:only-of-type {\n",
       "        vertical-align: middle;\n",
       "    }\n",
       "\n",
       "    .dataframe tbody tr th {\n",
       "        vertical-align: top;\n",
       "    }\n",
       "\n",
       "    .dataframe thead th {\n",
       "        text-align: right;\n",
       "    }\n",
       "</style>\n",
       "<table border=\"1\" class=\"dataframe\">\n",
       "  <thead>\n",
       "    <tr style=\"text-align: right;\">\n",
       "      <th></th>\n",
       "      <th>messid</th>\n",
       "      <th>bsid</th>\n",
       "      <th>did</th>\n",
       "      <th>nseq</th>\n",
       "      <th>rssi</th>\n",
       "      <th>time_ux</th>\n",
       "      <th>bs_lat</th>\n",
       "      <th>bs_lng</th>\n",
       "    </tr>\n",
       "  </thead>\n",
       "  <tbody>\n",
       "    <tr>\n",
       "      <th>0</th>\n",
       "      <td>573be2503e952e191262c351</td>\n",
       "      <td>3578</td>\n",
       "      <td>116539.0</td>\n",
       "      <td>2.0</td>\n",
       "      <td>-111.0</td>\n",
       "      <td>1.463542e+12</td>\n",
       "      <td>39.728651</td>\n",
       "      <td>-105.163032</td>\n",
       "    </tr>\n",
       "    <tr>\n",
       "      <th>1</th>\n",
       "      <td>573c05f83e952e1912758013</td>\n",
       "      <td>2617</td>\n",
       "      <td>472504.0</td>\n",
       "      <td>0.0</td>\n",
       "      <td>-136.0</td>\n",
       "      <td>1.463551e+12</td>\n",
       "      <td>39.779908</td>\n",
       "      <td>-105.062479</td>\n",
       "    </tr>\n",
       "    <tr>\n",
       "      <th>2</th>\n",
       "      <td>573c05f83e952e1912758013</td>\n",
       "      <td>3556</td>\n",
       "      <td>472504.0</td>\n",
       "      <td>0.0</td>\n",
       "      <td>-127.0</td>\n",
       "      <td>1.463551e+12</td>\n",
       "      <td>39.780658</td>\n",
       "      <td>-105.053676</td>\n",
       "    </tr>\n",
       "    <tr>\n",
       "      <th>3</th>\n",
       "      <td>573c05f83e952e1912758013</td>\n",
       "      <td>3578</td>\n",
       "      <td>472504.0</td>\n",
       "      <td>0.0</td>\n",
       "      <td>-129.0</td>\n",
       "      <td>1.463551e+12</td>\n",
       "      <td>39.728651</td>\n",
       "      <td>-105.163032</td>\n",
       "    </tr>\n",
       "    <tr>\n",
       "      <th>4</th>\n",
       "      <td>573c05f83e952e1912758013</td>\n",
       "      <td>4058</td>\n",
       "      <td>472504.0</td>\n",
       "      <td>0.0</td>\n",
       "      <td>-105.0</td>\n",
       "      <td>1.463551e+12</td>\n",
       "      <td>39.783211</td>\n",
       "      <td>-105.088747</td>\n",
       "    </tr>\n",
       "  </tbody>\n",
       "</table>\n",
       "</div>"
      ],
      "text/plain": [
       "                     messid  bsid       did  nseq   rssi       time_ux  \\\n",
       "0  573be2503e952e191262c351  3578  116539.0   2.0 -111.0  1.463542e+12   \n",
       "1  573c05f83e952e1912758013  2617  472504.0   0.0 -136.0  1.463551e+12   \n",
       "2  573c05f83e952e1912758013  3556  472504.0   0.0 -127.0  1.463551e+12   \n",
       "3  573c05f83e952e1912758013  3578  472504.0   0.0 -129.0  1.463551e+12   \n",
       "4  573c05f83e952e1912758013  4058  472504.0   0.0 -105.0  1.463551e+12   \n",
       "\n",
       "      bs_lat      bs_lng  \n",
       "0  39.728651 -105.163032  \n",
       "1  39.779908 -105.062479  \n",
       "2  39.780658 -105.053676  \n",
       "3  39.728651 -105.163032  \n",
       "4  39.783211 -105.088747  "
      ]
     },
     "execution_count": 45,
     "metadata": {},
     "output_type": "execute_result"
    }
   ],
   "source": [
    "df_mess_test.head()"
   ]
  },
  {
   "cell_type": "code",
   "execution_count": 46,
   "metadata": {},
   "outputs": [],
   "source": [
    "df_feat_test, id_list_test = feat_mat_const(df_mess_test, listOfBs)"
   ]
  },
  {
   "cell_type": "code",
   "execution_count": 47,
   "metadata": {},
   "outputs": [],
   "source": [
    "y_pred_lat, y_pred_lng = regressor_and_predict(df_feat, ground_truth_lat, ground_truth_lng, df_feat_test)"
   ]
  },
  {
   "cell_type": "code",
   "execution_count": 48,
   "metadata": {},
   "outputs": [],
   "source": [
    "test_res = pd.DataFrame(np.array([y_pred_lat, y_pred_lng]).T, columns = ['lat', 'lng'])\n",
    "test_res['messid'] = id_list_test"
   ]
  },
  {
   "cell_type": "code",
   "execution_count": 49,
   "metadata": {},
   "outputs": [],
   "source": [
    "test_res.to_csv('pred_pos_test_list.csv', index=False)"
   ]
  },
  {
   "cell_type": "code",
   "execution_count": 50,
   "metadata": {},
   "outputs": [
    {
     "data": {
      "text/html": [
       "<div>\n",
       "<style scoped>\n",
       "    .dataframe tbody tr th:only-of-type {\n",
       "        vertical-align: middle;\n",
       "    }\n",
       "\n",
       "    .dataframe tbody tr th {\n",
       "        vertical-align: top;\n",
       "    }\n",
       "\n",
       "    .dataframe thead th {\n",
       "        text-align: right;\n",
       "    }\n",
       "</style>\n",
       "<table border=\"1\" class=\"dataframe\">\n",
       "  <thead>\n",
       "    <tr style=\"text-align: right;\">\n",
       "      <th></th>\n",
       "      <th>lat</th>\n",
       "      <th>lng</th>\n",
       "      <th>messid</th>\n",
       "    </tr>\n",
       "  </thead>\n",
       "  <tbody>\n",
       "    <tr>\n",
       "      <th>0</th>\n",
       "      <td>39.772912</td>\n",
       "      <td>-105.049629</td>\n",
       "      <td>573be2503e952e191262c351</td>\n",
       "    </tr>\n",
       "    <tr>\n",
       "      <th>1</th>\n",
       "      <td>39.774798</td>\n",
       "      <td>-105.062444</td>\n",
       "      <td>573c05f83e952e1912758013</td>\n",
       "    </tr>\n",
       "    <tr>\n",
       "      <th>2</th>\n",
       "      <td>39.678748</td>\n",
       "      <td>-105.012793</td>\n",
       "      <td>573c0796f0fe6e735a66deb3</td>\n",
       "    </tr>\n",
       "    <tr>\n",
       "      <th>3</th>\n",
       "      <td>39.773684</td>\n",
       "      <td>-105.037450</td>\n",
       "      <td>573c08d2864fce1a9a0563bc</td>\n",
       "    </tr>\n",
       "    <tr>\n",
       "      <th>4</th>\n",
       "      <td>39.678748</td>\n",
       "      <td>-105.012793</td>\n",
       "      <td>573c08ff864fce1a9a0579b0</td>\n",
       "    </tr>\n",
       "  </tbody>\n",
       "</table>\n",
       "</div>"
      ],
      "text/plain": [
       "         lat         lng                    messid\n",
       "0  39.772912 -105.049629  573be2503e952e191262c351\n",
       "1  39.774798 -105.062444  573c05f83e952e1912758013\n",
       "2  39.678748 -105.012793  573c0796f0fe6e735a66deb3\n",
       "3  39.773684 -105.037450  573c08d2864fce1a9a0563bc\n",
       "4  39.678748 -105.012793  573c08ff864fce1a9a0579b0"
      ]
     },
     "execution_count": 50,
     "metadata": {},
     "output_type": "execute_result"
    }
   ],
   "source": [
    "test_res.head()"
   ]
  },
  {
   "cell_type": "code",
   "execution_count": null,
   "metadata": {},
   "outputs": [],
   "source": []
  },
  {
   "cell_type": "code",
   "execution_count": null,
   "metadata": {},
   "outputs": [],
   "source": []
  },
  {
   "cell_type": "markdown",
   "metadata": {},
   "source": [
    "### Version 2"
   ]
  },
  {
   "cell_type": "code",
   "execution_count": 60,
   "metadata": {},
   "outputs": [],
   "source": [
    "# Feature Matrix construction \n",
    "\n",
    "def feat_mat_const2(df_mess_train, listOfBs):\n",
    "\n",
    "    df_mess_bs_group = df_mess_train.groupby(['messid'], as_index=False) # group data by message (messid)\n",
    "    nb_mess = len(np.unique(df_mess_train['messid']))\n",
    "    df_feat = pd.DataFrame(np.zeros((nb_mess,len(listOfBs))), columns = listOfBs) # feature matrix\n",
    "    idx = 0\n",
    "    id_list = [0] * nb_mess\n",
    "\n",
    "    for key, elmt in df_mess_bs_group:\n",
    "        df_mess_bs_group.get_group(key)\n",
    "        df_feat.loc[idx,df_mess_bs_group.get_group(key)['bsid']] = -df_mess_bs_group.get_group(key)['rssi']\n",
    "        id_list[idx] = key\n",
    "        idx = idx + 1\n",
    "    \n",
    "    return df_feat, id_list # add id value of each message for the correspondance to message  "
   ]
  },
  {
   "cell_type": "code",
   "execution_count": 61,
   "metadata": {},
   "outputs": [
    {
     "data": {
      "text/html": [
       "<div>\n",
       "<style scoped>\n",
       "    .dataframe tbody tr th:only-of-type {\n",
       "        vertical-align: middle;\n",
       "    }\n",
       "\n",
       "    .dataframe tbody tr th {\n",
       "        vertical-align: top;\n",
       "    }\n",
       "\n",
       "    .dataframe thead th {\n",
       "        text-align: right;\n",
       "    }\n",
       "</style>\n",
       "<table border=\"1\" class=\"dataframe\">\n",
       "  <thead>\n",
       "    <tr style=\"text-align: right;\">\n",
       "      <th></th>\n",
       "      <th>879</th>\n",
       "      <th>911</th>\n",
       "      <th>921</th>\n",
       "      <th>944</th>\n",
       "      <th>980</th>\n",
       "      <th>1012</th>\n",
       "      <th>1086</th>\n",
       "      <th>1092</th>\n",
       "      <th>1120</th>\n",
       "      <th>1131</th>\n",
       "      <th>...</th>\n",
       "      <th>9936</th>\n",
       "      <th>9941</th>\n",
       "      <th>9949</th>\n",
       "      <th>10134</th>\n",
       "      <th>10148</th>\n",
       "      <th>10151</th>\n",
       "      <th>10162</th>\n",
       "      <th>10999</th>\n",
       "      <th>11007</th>\n",
       "      <th>11951</th>\n",
       "    </tr>\n",
       "  </thead>\n",
       "  <tbody>\n",
       "    <tr>\n",
       "      <th>0</th>\n",
       "      <td>0.0</td>\n",
       "      <td>0.0</td>\n",
       "      <td>0.0</td>\n",
       "      <td>0.0</td>\n",
       "      <td>0.0</td>\n",
       "      <td>0.0</td>\n",
       "      <td>0.0</td>\n",
       "      <td>0.0</td>\n",
       "      <td>0.0</td>\n",
       "      <td>0.0</td>\n",
       "      <td>...</td>\n",
       "      <td>0.0</td>\n",
       "      <td>0.0</td>\n",
       "      <td>0.0</td>\n",
       "      <td>0.0</td>\n",
       "      <td>0.0</td>\n",
       "      <td>0.0</td>\n",
       "      <td>0.0</td>\n",
       "      <td>0.0</td>\n",
       "      <td>0.0</td>\n",
       "      <td>0.0</td>\n",
       "    </tr>\n",
       "    <tr>\n",
       "      <th>1</th>\n",
       "      <td>0.0</td>\n",
       "      <td>0.0</td>\n",
       "      <td>0.0</td>\n",
       "      <td>0.0</td>\n",
       "      <td>0.0</td>\n",
       "      <td>0.0</td>\n",
       "      <td>0.0</td>\n",
       "      <td>0.0</td>\n",
       "      <td>0.0</td>\n",
       "      <td>0.0</td>\n",
       "      <td>...</td>\n",
       "      <td>0.0</td>\n",
       "      <td>0.0</td>\n",
       "      <td>0.0</td>\n",
       "      <td>0.0</td>\n",
       "      <td>0.0</td>\n",
       "      <td>0.0</td>\n",
       "      <td>0.0</td>\n",
       "      <td>0.0</td>\n",
       "      <td>0.0</td>\n",
       "      <td>0.0</td>\n",
       "    </tr>\n",
       "    <tr>\n",
       "      <th>2</th>\n",
       "      <td>0.0</td>\n",
       "      <td>0.0</td>\n",
       "      <td>0.0</td>\n",
       "      <td>0.0</td>\n",
       "      <td>0.0</td>\n",
       "      <td>0.0</td>\n",
       "      <td>0.0</td>\n",
       "      <td>0.0</td>\n",
       "      <td>0.0</td>\n",
       "      <td>0.0</td>\n",
       "      <td>...</td>\n",
       "      <td>0.0</td>\n",
       "      <td>0.0</td>\n",
       "      <td>0.0</td>\n",
       "      <td>0.0</td>\n",
       "      <td>0.0</td>\n",
       "      <td>0.0</td>\n",
       "      <td>0.0</td>\n",
       "      <td>0.0</td>\n",
       "      <td>0.0</td>\n",
       "      <td>0.0</td>\n",
       "    </tr>\n",
       "    <tr>\n",
       "      <th>3</th>\n",
       "      <td>0.0</td>\n",
       "      <td>0.0</td>\n",
       "      <td>0.0</td>\n",
       "      <td>0.0</td>\n",
       "      <td>0.0</td>\n",
       "      <td>0.0</td>\n",
       "      <td>0.0</td>\n",
       "      <td>0.0</td>\n",
       "      <td>0.0</td>\n",
       "      <td>0.0</td>\n",
       "      <td>...</td>\n",
       "      <td>0.0</td>\n",
       "      <td>0.0</td>\n",
       "      <td>0.0</td>\n",
       "      <td>0.0</td>\n",
       "      <td>0.0</td>\n",
       "      <td>0.0</td>\n",
       "      <td>0.0</td>\n",
       "      <td>0.0</td>\n",
       "      <td>0.0</td>\n",
       "      <td>0.0</td>\n",
       "    </tr>\n",
       "    <tr>\n",
       "      <th>4</th>\n",
       "      <td>0.0</td>\n",
       "      <td>0.0</td>\n",
       "      <td>0.0</td>\n",
       "      <td>0.0</td>\n",
       "      <td>0.0</td>\n",
       "      <td>0.0</td>\n",
       "      <td>1.0</td>\n",
       "      <td>0.0</td>\n",
       "      <td>0.0</td>\n",
       "      <td>0.0</td>\n",
       "      <td>...</td>\n",
       "      <td>0.0</td>\n",
       "      <td>0.0</td>\n",
       "      <td>0.0</td>\n",
       "      <td>0.0</td>\n",
       "      <td>0.0</td>\n",
       "      <td>0.0</td>\n",
       "      <td>0.0</td>\n",
       "      <td>0.0</td>\n",
       "      <td>0.0</td>\n",
       "      <td>0.0</td>\n",
       "    </tr>\n",
       "  </tbody>\n",
       "</table>\n",
       "<p>5 rows × 259 columns</p>\n",
       "</div>"
      ],
      "text/plain": [
       "   879    911    921    944    980    1012   1086   1092   1120   1131   ...  \\\n",
       "0    0.0    0.0    0.0    0.0    0.0    0.0    0.0    0.0    0.0    0.0  ...   \n",
       "1    0.0    0.0    0.0    0.0    0.0    0.0    0.0    0.0    0.0    0.0  ...   \n",
       "2    0.0    0.0    0.0    0.0    0.0    0.0    0.0    0.0    0.0    0.0  ...   \n",
       "3    0.0    0.0    0.0    0.0    0.0    0.0    0.0    0.0    0.0    0.0  ...   \n",
       "4    0.0    0.0    0.0    0.0    0.0    0.0    1.0    0.0    0.0    0.0  ...   \n",
       "\n",
       "   9936   9941   9949   10134  10148  10151  10162  10999  11007  11951  \n",
       "0    0.0    0.0    0.0    0.0    0.0    0.0    0.0    0.0    0.0    0.0  \n",
       "1    0.0    0.0    0.0    0.0    0.0    0.0    0.0    0.0    0.0    0.0  \n",
       "2    0.0    0.0    0.0    0.0    0.0    0.0    0.0    0.0    0.0    0.0  \n",
       "3    0.0    0.0    0.0    0.0    0.0    0.0    0.0    0.0    0.0    0.0  \n",
       "4    0.0    0.0    0.0    0.0    0.0    0.0    0.0    0.0    0.0    0.0  \n",
       "\n",
       "[5 rows x 259 columns]"
      ]
     },
     "execution_count": 61,
     "metadata": {},
     "output_type": "execute_result"
    }
   ],
   "source": [
    "df_feat2, id_list_train2 = feat_mat_const(df_mess_pos_train2, listOfBs)\n",
    "df_feat2.head()"
   ]
  },
  {
   "cell_type": "code",
   "execution_count": 128,
   "metadata": {},
   "outputs": [
    {
     "data": {
      "text/plain": [
       "(5870, 259)"
      ]
     },
     "execution_count": 128,
     "metadata": {},
     "output_type": "execute_result"
    }
   ],
   "source": [
    "df_feat2.shape"
   ]
  },
  {
   "cell_type": "code",
   "execution_count": 62,
   "metadata": {},
   "outputs": [],
   "source": [
    "# nb de balises qui ont reçu le message\n",
    "# df_feat2['nb_bs'] = df_feat2[df_feat2 != 0.0].count(axis=1)\n",
    "# df_feat2.shape"
   ]
  },
  {
   "cell_type": "code",
   "execution_count": 64,
   "metadata": {},
   "outputs": [
    {
     "data": {
      "text/plain": [
       "(5870, 260)"
      ]
     },
     "execution_count": 64,
     "metadata": {},
     "output_type": "execute_result"
    }
   ],
   "source": []
  },
  {
   "cell_type": "code",
   "execution_count": null,
   "metadata": {},
   "outputs": [],
   "source": []
  },
  {
   "cell_type": "code",
   "execution_count": 232,
   "metadata": {},
   "outputs": [
    {
     "data": {
      "text/plain": [
       "(5870,)"
      ]
     },
     "execution_count": 232,
     "metadata": {},
     "output_type": "execute_result"
    }
   ],
   "source": [
    "ground_truth_lat2, ground_truth_lng2 = ground_truth_const(df_mess_pos_train2, df_mess_pos_train2[['lat','lng']])\n",
    "ground_truth_lat2.shape"
   ]
  },
  {
   "cell_type": "markdown",
   "metadata": {},
   "source": [
    "#### Version 2.1 avec une régression linéaire"
   ]
  },
  {
   "cell_type": "code",
   "execution_count": 233,
   "metadata": {},
   "outputs": [],
   "source": [
    "from sklearn import linear_model\n",
    "reg = linear_model.LinearRegression()\n",
    "y_pred_lng2 = cross_val_predict(reg, df_feat2, ground_truth_lng2, cv=10)\n",
    "y_pred_lat2 = cross_val_predict(reg, df_feat2, ground_truth_lat2, cv=10)"
   ]
  },
  {
   "cell_type": "code",
   "execution_count": 234,
   "metadata": {},
   "outputs": [],
   "source": [
    "# Evaluate result"
   ]
  },
  {
   "cell_type": "code",
   "execution_count": 235,
   "metadata": {},
   "outputs": [],
   "source": [
    "err_vec2 = Eval_geoloc(ground_truth_lat2 , ground_truth_lng2, y_pred_lat2, y_pred_lng2)"
   ]
  },
  {
   "cell_type": "code",
   "execution_count": 236,
   "metadata": {},
   "outputs": [],
   "source": [
    "# Plot error distribution"
   ]
  },
  {
   "cell_type": "code",
   "execution_count": 237,
   "metadata": {},
   "outputs": [
    {
     "data": {
      "text/plain": [
       "<matplotlib.legend.Legend at 0x7fde00db9f40>"
      ]
     },
     "execution_count": 237,
     "metadata": {},
     "output_type": "execute_result"
    },
    {
     "data": {
      "image/png": "[encoded data removed]",
      "text/plain": [
       "<Figure size 432x288 with 1 Axes>"
      ]
     },
     "metadata": {
      "needs_background": "light"
     },
     "output_type": "display_data"
    }
   ],
   "source": [
    "values, base = np.histogram(err_vec2, bins=50000)\n",
    "cumulative = np.cumsum(values) \n",
    "plt.figure();\n",
    "plt.plot(base[:-1], cumulative / np.float(np.sum(values))  * 100.0, c='blue')\n",
    "plt.grid(); plt.xlabel('Distance Error (km)'); plt.ylabel('Cum proba (%)'); plt.axis([0, 30, 0, 100]); \n",
    "plt.title('Error Cumulative Probability'); plt.legend( [\"Opt LLR\", \"LLR 95\", \"LLR 99\"])"
   ]
  },
  {
   "cell_type": "code",
   "execution_count": 238,
   "metadata": {},
   "outputs": [
    {
     "data": {
      "text/plain": [
       "8.1716658"
      ]
     },
     "execution_count": 238,
     "metadata": {},
     "output_type": "execute_result"
    }
   ],
   "source": [
    "# Error criterion\n",
    "\n",
    "np.percentile(err_vec2, 80)"
   ]
  },
  {
   "cell_type": "markdown",
   "metadata": {},
   "source": [
    "#### Version 2.2 avec une SVR"
   ]
  },
  {
   "cell_type": "code",
   "execution_count": 239,
   "metadata": {},
   "outputs": [
    {
     "name": "stdout",
     "output_type": "stream",
     "text": [
      "Erreur au 80% :  8.6975266\n"
     ]
    },
    {
     "data": {
      "image/png": "[encoded data removed]",
      "text/plain": [
       "<Figure size 432x288 with 1 Axes>"
      ]
     },
     "metadata": {
      "needs_background": "light"
     },
     "output_type": "display_data"
    }
   ],
   "source": [
    "from sklearn.svm import SVR\n",
    "svr = SVR()\n",
    "y_pred_lng2 = cross_val_predict(svr, df_feat2, ground_truth_lng2, cv=10)\n",
    "y_pred_lat2 = cross_val_predict(svr, df_feat2, ground_truth_lat2, cv=10)\n",
    "\n",
    "# Evaluate result\n",
    "err_vec2 = Eval_geoloc(ground_truth_lat2 , ground_truth_lng2, y_pred_lat2, y_pred_lng2)\n",
    "\n",
    "# Plot error distribution\n",
    "values, base = np.histogram(err_vec2, bins=50000)\n",
    "cumulative = np.cumsum(values) \n",
    "plt.figure();\n",
    "plt.plot(base[:-1], cumulative / np.float(np.sum(values))  * 100.0, c='blue')\n",
    "plt.grid(); plt.xlabel('Distance Error (km)'); plt.ylabel('Cum proba (%)'); plt.axis([0, 30, 0, 100]); \n",
    "plt.title('Error Cumulative Probability'); plt.legend( [\"Opt LLR\", \"LLR 95\", \"LLR 99\"])\n",
    "\n",
    "# Error criterion\n",
    "print('Erreur au 80% : ',np.percentile(err_vec2, 80))\n"
   ]
  },
  {
   "cell_type": "markdown",
   "metadata": {},
   "source": [
    "#### Version 2.3 avec une DecisionTreeRegressor"
   ]
  },
  {
   "cell_type": "code",
   "execution_count": 240,
   "metadata": {},
   "outputs": [
    {
     "name": "stdout",
     "output_type": "stream",
     "text": [
      "Erreur au 80% :  4.345079799999999\n"
     ]
    },
    {
     "data": {
      "image/png": "[encoded data removed]",
      "text/plain": [
       "<Figure size 432x288 with 1 Axes>"
      ]
     },
     "metadata": {
      "needs_background": "light"
     },
     "output_type": "display_data"
    }
   ],
   "source": [
    "from sklearn.tree import DecisionTreeRegressor\n",
    "tree = DecisionTreeRegressor()\n",
    "y_pred_lng2 = cross_val_predict(tree, df_feat2, ground_truth_lng2, cv=10)\n",
    "y_pred_lat2 = cross_val_predict(tree, df_feat2, ground_truth_lat2, cv=10)\n",
    "\n",
    "# Evaluate result\n",
    "err_vec2 = Eval_geoloc(ground_truth_lat2 , ground_truth_lng2, y_pred_lat2, y_pred_lng2)\n",
    "\n",
    "# Plot error distribution\n",
    "values, base = np.histogram(err_vec2, bins=50000)\n",
    "cumulative = np.cumsum(values) \n",
    "plt.figure();\n",
    "plt.plot(base[:-1], cumulative / np.float(np.sum(values))  * 100.0, c='blue')\n",
    "plt.grid(); plt.xlabel('Distance Error (km)'); plt.ylabel('Cum proba (%)'); plt.axis([0, 30, 0, 100]); \n",
    "plt.title('Error Cumulative Probability'); plt.legend( [\"Opt LLR\", \"LLR 95\", \"LLR 99\"])\n",
    "\n",
    "# Error criterion\n",
    "print('Erreur au 80% : ',np.percentile(err_vec2, 80))\n"
   ]
  },
  {
   "cell_type": "markdown",
   "metadata": {},
   "source": [
    "#### Version 2.4 avec une Random Forest Regressor"
   ]
  },
  {
   "cell_type": "code",
   "execution_count": 241,
   "metadata": {},
   "outputs": [
    {
     "name": "stdout",
     "output_type": "stream",
     "text": [
      "Erreur au 80% :  3.6604728\n"
     ]
    },
    {
     "data": {
      "image/png": "[encoded data removed]",
      "text/plain": [
       "<Figure size 432x288 with 1 Axes>"
      ]
     },
     "metadata": {
      "needs_background": "light"
     },
     "output_type": "display_data"
    }
   ],
   "source": [
    "from sklearn.ensemble import RandomForestRegressor\n",
    "tree = RandomForestRegressor(n_jobs=8)\n",
    "y_pred_lng2 = cross_val_predict(tree, df_feat2, ground_truth_lng2, cv=10)\n",
    "y_pred_lat2 = cross_val_predict(tree, df_feat2, ground_truth_lat2, cv=10)\n",
    "\n",
    "# Evaluate result\n",
    "err_vec2 = Eval_geoloc(ground_truth_lat2 , ground_truth_lng2, y_pred_lat2, y_pred_lng2)\n",
    "\n",
    "# Plot error distribution\n",
    "values, base = np.histogram(err_vec2, bins=50000)\n",
    "cumulative = np.cumsum(values) \n",
    "plt.figure();\n",
    "plt.plot(base[:-1], cumulative / np.float(np.sum(values))  * 100.0, c='blue')\n",
    "plt.grid(); plt.xlabel('Distance Error (km)'); plt.ylabel('Cum proba (%)'); plt.axis([0, 30, 0, 100]); \n",
    "plt.title('Error Cumulative Probability'); plt.legend( [\"Opt LLR\", \"LLR 95\", \"LLR 99\"])\n",
    "\n",
    "# Error criterion\n",
    "print('Erreur au 80% : ',np.percentile(err_vec2, 80))\n"
   ]
  },
  {
   "cell_type": "code",
   "execution_count": 242,
   "metadata": {},
   "outputs": [
    {
     "name": "stdout",
     "output_type": "stream",
     "text": [
      "Erreur au 80% :  11.0330652\n"
     ]
    },
    {
     "data": {
      "image/png": "[encoded data removed]",
      "text/plain": [
       "<Figure size 432x288 with 1 Axes>"
      ]
     },
     "metadata": {
      "needs_background": "light"
     },
     "output_type": "display_data"
    }
   ],
   "source": [
    "from sklearn.ensemble import RandomForestRegressor\n",
    "tree = RandomForestRegressor(max_depth=10, n_jobs=8)\n",
    "y_pred_lng2 = cross_val_predict(tree, df_feat2, ground_truth_lng2, cv=10)\n",
    "y_pred_lat2 = cross_val_predict(tree, df_feat2, ground_truth_lat2, cv=10)\n",
    "\n",
    "# Evaluate result\n",
    "err_vec2 = Eval_geoloc(ground_truth_lat2 , ground_truth_lng2, y_pred_lat2, y_pred_lng2)\n",
    "\n",
    "# Plot error distribution\n",
    "values, base = np.histogram(err_vec2, bins=50000)\n",
    "cumulative = np.cumsum(values) \n",
    "plt.figure();\n",
    "plt.plot(base[:-1], cumulative / np.float(np.sum(values))  * 100.0, c='blue')\n",
    "plt.grid(); plt.xlabel('Distance Error (km)'); plt.ylabel('Cum proba (%)'); plt.axis([0, 30, 0, 100]); \n",
    "plt.title('Error Cumulative Probability'); plt.legend( [\"Opt LLR\", \"LLR 95\", \"LLR 99\"])\n",
    "\n",
    "# Error criterion\n",
    "print('Erreur au 80% : ',np.percentile(err_vec2, 80))\n"
   ]
  },
  {
   "cell_type": "markdown",
   "metadata": {},
   "source": [
    "### Essai embedding de graphe"
   ]
  },
  {
   "cell_type": "code",
   "execution_count": 159,
   "metadata": {},
   "outputs": [],
   "source": [
    "from scipy import sparse"
   ]
  },
  {
   "cell_type": "code",
   "execution_count": null,
   "metadata": {},
   "outputs": [],
   "source": [
    "sparse.csr_matrix()"
   ]
  },
  {
   "cell_type": "code",
   "execution_count": 154,
   "metadata": {},
   "outputs": [],
   "source": [
    "from sknetwork.data import load_netset, karate_club\n",
    "from sknetwork.embedding import BiSpectral, Spectral"
   ]
  },
  {
   "cell_type": "code",
   "execution_count": 195,
   "metadata": {},
   "outputs": [],
   "source": [
    "bispectral = BiSpectral(10, normalized=False)"
   ]
  },
  {
   "cell_type": "code",
   "execution_count": 196,
   "metadata": {},
   "outputs": [
    {
     "data": {
      "text/plain": [
       "(5870, 10)"
      ]
     },
     "execution_count": 196,
     "metadata": {},
     "output_type": "execute_result"
    }
   ],
   "source": [
    "embedding = bispectral.fit_transform(sparse.csr_matrix(df_feat2))\n",
    "embedding.shape"
   ]
  },
  {
   "cell_type": "code",
   "execution_count": 197,
   "metadata": {},
   "outputs": [
    {
     "data": {
      "text/plain": [
       "array([0.93981705, 0.89966356, 0.8539031 , 0.77952379, 0.73002988,\n",
       "       0.69264691, 0.60245075, 0.35057569, 0.14320986, 0.10204742])"
      ]
     },
     "execution_count": 197,
     "metadata": {},
     "output_type": "execute_result"
    }
   ],
   "source": [
    "eigenvalues = bispectral.eigenvalues_\n",
    "eigenvalues # il s'agit des valeurs propres de la matrice de transition (la première valeur est skippée)"
   ]
  },
  {
   "cell_type": "code",
   "execution_count": 198,
   "metadata": {},
   "outputs": [
    {
     "data": {
      "image/png": "[encoded data removed]",
      "text/plain": [
       "<Figure size 432x288 with 1 Axes>"
      ]
     },
     "metadata": {
      "needs_background": "light"
     },
     "output_type": "display_data"
    }
   ],
   "source": [
    "plt.figure()\n",
    "plt.scatter(np.arange(10),eigenvalues)\n",
    "plt.title('Spectrum')\n",
    "plt.xlabel('Numéro valeurs propres')\n",
    "plt.ylabel('Valeurs propres')\n",
    "plt.show()"
   ]
  },
  {
   "cell_type": "code",
   "execution_count": 199,
   "metadata": {},
   "outputs": [],
   "source": [
    "# on peut utiliser les 8 premiers vecteurs propres (0 compris) lorque Normalize = False\n",
    "# on peut utiliser les 4 ou 8 premiers vecteurs propres (0 compris) lorque Normalize = True"
   ]
  },
  {
   "cell_type": "code",
   "execution_count": 206,
   "metadata": {},
   "outputs": [],
   "source": [
    "from sklearn import linear_model\n",
    "reg = linear_model.LinearRegression()\n",
    "y_pred_lng2 = cross_val_predict(reg, embedding[:,:8], ground_truth_lng2, cv=10)\n",
    "y_pred_lat2 = cross_val_predict(reg, embedding[:,:8], ground_truth_lat2, cv=10)"
   ]
  },
  {
   "cell_type": "code",
   "execution_count": 207,
   "metadata": {},
   "outputs": [],
   "source": [
    "# Evaluate result"
   ]
  },
  {
   "cell_type": "code",
   "execution_count": 208,
   "metadata": {},
   "outputs": [],
   "source": [
    "err_vec2 = Eval_geoloc(ground_truth_lat2 , ground_truth_lng2, y_pred_lat2, y_pred_lng2)"
   ]
  },
  {
   "cell_type": "code",
   "execution_count": 209,
   "metadata": {},
   "outputs": [],
   "source": [
    "# Plot error distribution"
   ]
  },
  {
   "cell_type": "code",
   "execution_count": 210,
   "metadata": {},
   "outputs": [
    {
     "data": {
      "text/plain": [
       "<matplotlib.legend.Legend at 0x7fde0041a910>"
      ]
     },
     "execution_count": 210,
     "metadata": {},
     "output_type": "execute_result"
    },
    {
     "data": {
      "image/png": "[encoded data removed]",
      "text/plain": [
       "<Figure size 432x288 with 1 Axes>"
      ]
     },
     "metadata": {
      "needs_background": "light"
     },
     "output_type": "display_data"
    }
   ],
   "source": [
    "values, base = np.histogram(err_vec2, bins=50000)\n",
    "cumulative = np.cumsum(values) \n",
    "plt.figure();\n",
    "plt.plot(base[:-1], cumulative / np.float(np.sum(values))  * 100.0, c='blue')\n",
    "plt.grid(); plt.xlabel('Distance Error (km)'); plt.ylabel('Cum proba (%)'); plt.axis([0, 30, 0, 100]); \n",
    "plt.title('Error Cumulative Probability'); plt.legend( [\"Opt LLR\", \"LLR 95\", \"LLR 99\"])"
   ]
  },
  {
   "cell_type": "code",
   "execution_count": 211,
   "metadata": {},
   "outputs": [
    {
     "data": {
      "text/plain": [
       "13.129687800000001"
      ]
     },
     "execution_count": 211,
     "metadata": {},
     "output_type": "execute_result"
    }
   ],
   "source": [
    "# Error criterion\n",
    "\n",
    "np.percentile(err_vec2, 80)"
   ]
  },
  {
   "cell_type": "code",
   "execution_count": null,
   "metadata": {},
   "outputs": [],
   "source": []
  },
  {
   "cell_type": "code",
   "execution_count": null,
   "metadata": {},
   "outputs": [],
   "source": []
  }
 ],
 "metadata": {
  "kernelspec": {
   "display_name": "Python 3",
   "language": "python",
   "name": "python3"
  },
  "language_info": {
   "codemirror_mode": {
    "name": "ipython",
    "version": 3
   },
   "file_extension": ".py",
   "mimetype": "text/x-python",
   "name": "python",
   "nbconvert_exporter": "python",
   "pygments_lexer": "ipython3",
   "version": "3.8.5"
  }
 },
 "nbformat": 4,
 "nbformat_minor": 1
}
